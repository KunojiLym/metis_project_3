{
 "cells": [
  {
   "cell_type": "code",
   "execution_count": 1,
   "metadata": {},
   "outputs": [],
   "source": [
    "import pandas as pd\n",
    "import numpy as np\n",
    "from collections import defaultdict\n",
    "\n",
    "import matplotlib.pyplot as plt\n",
    "import seaborn as sns\n",
    "from ipywidgets import interactive, FloatSlider\n",
    "\n",
    "from sklearn.linear_model import LogisticRegression, LogisticRegressionCV\n",
    "from sklearn.neighbors import KNeighborsClassifier\n",
    "from sklearn.metrics import f1_score, confusion_matrix, precision_score, recall_score, plot_roc_curve\n",
    "from sklearn.model_selection import train_test_split, GridSearchCV, KFold\n",
    "\n",
    "from joblib import dump, load\n",
    "import os\n",
    "\n",
    "import eda\n",
    "\n",
    "import psycopg2 as pg\n",
    "import psycopg2.extras as pgex\n",
    "import sql_fish\n",
    "\n",
    "RANDOM = 42\n",
    "connection = sql_fish.fishing_database()"
   ]
  },
  {
   "cell_type": "code",
   "execution_count": 3,
   "metadata": {},
   "outputs": [
    {
     "output_type": "execute_result",
     "data": {
      "text/plain": "   is_fishing  record_count\n0   -1.000000      28027543\n1    0.000000        295979\n2    0.166667            12\n3    0.250000           670\n4    0.333333          4096\n5    0.400000             9\n6    0.666667          4806\n7    0.750000           752\n8    0.800000            33\n9    1.000000        247498",
      "text/html": "<div>\n<style scoped>\n    .dataframe tbody tr th:only-of-type {\n        vertical-align: middle;\n    }\n\n    .dataframe tbody tr th {\n        vertical-align: top;\n    }\n\n    .dataframe thead th {\n        text-align: right;\n    }\n</style>\n<table border=\"1\" class=\"dataframe\">\n  <thead>\n    <tr style=\"text-align: right;\">\n      <th></th>\n      <th>is_fishing</th>\n      <th>record_count</th>\n    </tr>\n  </thead>\n  <tbody>\n    <tr>\n      <th>0</th>\n      <td>-1.000000</td>\n      <td>28027543</td>\n    </tr>\n    <tr>\n      <th>1</th>\n      <td>0.000000</td>\n      <td>295979</td>\n    </tr>\n    <tr>\n      <th>2</th>\n      <td>0.166667</td>\n      <td>12</td>\n    </tr>\n    <tr>\n      <th>3</th>\n      <td>0.250000</td>\n      <td>670</td>\n    </tr>\n    <tr>\n      <th>4</th>\n      <td>0.333333</td>\n      <td>4096</td>\n    </tr>\n    <tr>\n      <th>5</th>\n      <td>0.400000</td>\n      <td>9</td>\n    </tr>\n    <tr>\n      <th>6</th>\n      <td>0.666667</td>\n      <td>4806</td>\n    </tr>\n    <tr>\n      <th>7</th>\n      <td>0.750000</td>\n      <td>752</td>\n    </tr>\n    <tr>\n      <th>8</th>\n      <td>0.800000</td>\n      <td>33</td>\n    </tr>\n    <tr>\n      <th>9</th>\n      <td>1.000000</td>\n      <td>247498</td>\n    </tr>\n  </tbody>\n</table>\n</div>"
     },
     "metadata": {},
     "execution_count": 3
    }
   ],
   "source": [
    "query = \"SELECT is_fishing, COUNT(*) as record_count FROM fishingfeatures GROUP BY is_fishing ORDER BY is_fishing;\"\n",
    "\n",
    "pd.io.sql.read_sql(query, connection)"
   ]
  },
  {
   "cell_type": "code",
   "execution_count": 4,
   "metadata": {},
   "outputs": [
    {
     "output_type": "execute_result",
     "data": {
      "text/plain": "            gear_type  record_count\n0  drifting_longlines      13968727\n1             unknown       6811552\n2            trawlers       4369101\n3          fixed_gear       1559137\n4        purse_seines       1545323\n5            trollers        166243\n6       pole_and_line        161315",
      "text/html": "<div>\n<style scoped>\n    .dataframe tbody tr th:only-of-type {\n        vertical-align: middle;\n    }\n\n    .dataframe tbody tr th {\n        vertical-align: top;\n    }\n\n    .dataframe thead th {\n        text-align: right;\n    }\n</style>\n<table border=\"1\" class=\"dataframe\">\n  <thead>\n    <tr style=\"text-align: right;\">\n      <th></th>\n      <th>gear_type</th>\n      <th>record_count</th>\n    </tr>\n  </thead>\n  <tbody>\n    <tr>\n      <th>0</th>\n      <td>drifting_longlines</td>\n      <td>13968727</td>\n    </tr>\n    <tr>\n      <th>1</th>\n      <td>unknown</td>\n      <td>6811552</td>\n    </tr>\n    <tr>\n      <th>2</th>\n      <td>trawlers</td>\n      <td>4369101</td>\n    </tr>\n    <tr>\n      <th>3</th>\n      <td>fixed_gear</td>\n      <td>1559137</td>\n    </tr>\n    <tr>\n      <th>4</th>\n      <td>purse_seines</td>\n      <td>1545323</td>\n    </tr>\n    <tr>\n      <th>5</th>\n      <td>trollers</td>\n      <td>166243</td>\n    </tr>\n    <tr>\n      <th>6</th>\n      <td>pole_and_line</td>\n      <td>161315</td>\n    </tr>\n  </tbody>\n</table>\n</div>"
     },
     "metadata": {},
     "execution_count": 4
    }
   ],
   "source": [
    "query = \"SELECT gear_type, COUNT(*) AS record_count FROM fishingfeatures GROUP BY gear_type ORDER BY record_count DESC;\"\n",
    "\n",
    "gear_record_summary_df = pd.io.sql.read_sql(query, connection)\n",
    "\n",
    "gear_record_summary_df"
   ]
  },
  {
   "cell_type": "code",
   "execution_count": 5,
   "metadata": {},
   "outputs": [
    {
     "output_type": "execute_result",
     "data": {
      "text/plain": "            gear_type  ship_count\n0             unknown         120\n1  drifting_longlines         110\n2            trawlers          49\n3          fixed_gear          36\n4        purse_seines          28\n5       pole_and_line           6\n6            trollers           5",
      "text/html": "<div>\n<style scoped>\n    .dataframe tbody tr th:only-of-type {\n        vertical-align: middle;\n    }\n\n    .dataframe tbody tr th {\n        vertical-align: top;\n    }\n\n    .dataframe thead th {\n        text-align: right;\n    }\n</style>\n<table border=\"1\" class=\"dataframe\">\n  <thead>\n    <tr style=\"text-align: right;\">\n      <th></th>\n      <th>gear_type</th>\n      <th>ship_count</th>\n    </tr>\n  </thead>\n  <tbody>\n    <tr>\n      <th>0</th>\n      <td>unknown</td>\n      <td>120</td>\n    </tr>\n    <tr>\n      <th>1</th>\n      <td>drifting_longlines</td>\n      <td>110</td>\n    </tr>\n    <tr>\n      <th>2</th>\n      <td>trawlers</td>\n      <td>49</td>\n    </tr>\n    <tr>\n      <th>3</th>\n      <td>fixed_gear</td>\n      <td>36</td>\n    </tr>\n    <tr>\n      <th>4</th>\n      <td>purse_seines</td>\n      <td>28</td>\n    </tr>\n    <tr>\n      <th>5</th>\n      <td>pole_and_line</td>\n      <td>6</td>\n    </tr>\n    <tr>\n      <th>6</th>\n      <td>trollers</td>\n      <td>5</td>\n    </tr>\n  </tbody>\n</table>\n</div>"
     },
     "metadata": {},
     "execution_count": 5
    }
   ],
   "source": [
    "query = \"SELECT gear_type, COUNT(DISTINCT mmsi) AS ship_count FROM fishingfeatures GROUP BY gear_type ORDER BY ship_count DESC;\"\n",
    "\n",
    "gear_ship_summary_df = pd.io.sql.read_sql(query, connection)\n",
    "\n",
    "gear_ship_summary_df"
   ]
  },
  {
   "cell_type": "code",
   "execution_count": null,
   "metadata": {},
   "outputs": [],
   "source": [
    "query = \"SELECT * FROM fishingfeatures WHERE is_fishing != -1;\"\n",
    "\n",
    "fishing_raw_df = pd.io.sql.read_sql(query, connection)\n",
    "\n",
    "fishing_raw_df"
   ]
  },
  {
   "cell_type": "code",
   "execution_count": 2,
   "metadata": {},
   "outputs": [
    {
     "output_type": "execute_result",
     "data": {
      "text/plain": "             index           timestamp  is_new_mmsi\n0             6702 2014-04-12 12:08:21        False\n1             6703 2014-04-12 13:41:52        False\n2             6704 2014-04-12 14:21:06        False\n3             6705 2014-04-12 16:05:04        False\n4             6706 2014-04-12 16:27:10        False\n...            ...                 ...          ...\n28581393  28581393 2016-11-23 11:43:42        False\n28581394  28581394 2016-11-23 12:11:01        False\n28581395  28581395 2016-11-23 13:09:03        False\n28581396  28581396 2016-11-23 13:57:02        False\n28581397  28581397 2016-11-23 18:06:01        False\n\n[28581398 rows x 3 columns]",
      "text/html": "<div>\n<style scoped>\n    .dataframe tbody tr th:only-of-type {\n        vertical-align: middle;\n    }\n\n    .dataframe tbody tr th {\n        vertical-align: top;\n    }\n\n    .dataframe thead th {\n        text-align: right;\n    }\n</style>\n<table border=\"1\" class=\"dataframe\">\n  <thead>\n    <tr style=\"text-align: right;\">\n      <th></th>\n      <th>index</th>\n      <th>timestamp</th>\n      <th>is_new_mmsi</th>\n    </tr>\n  </thead>\n  <tbody>\n    <tr>\n      <th>0</th>\n      <td>6702</td>\n      <td>2014-04-12 12:08:21</td>\n      <td>False</td>\n    </tr>\n    <tr>\n      <th>1</th>\n      <td>6703</td>\n      <td>2014-04-12 13:41:52</td>\n      <td>False</td>\n    </tr>\n    <tr>\n      <th>2</th>\n      <td>6704</td>\n      <td>2014-04-12 14:21:06</td>\n      <td>False</td>\n    </tr>\n    <tr>\n      <th>3</th>\n      <td>6705</td>\n      <td>2014-04-12 16:05:04</td>\n      <td>False</td>\n    </tr>\n    <tr>\n      <th>4</th>\n      <td>6706</td>\n      <td>2014-04-12 16:27:10</td>\n      <td>False</td>\n    </tr>\n    <tr>\n      <th>...</th>\n      <td>...</td>\n      <td>...</td>\n      <td>...</td>\n    </tr>\n    <tr>\n      <th>28581393</th>\n      <td>28581393</td>\n      <td>2016-11-23 11:43:42</td>\n      <td>False</td>\n    </tr>\n    <tr>\n      <th>28581394</th>\n      <td>28581394</td>\n      <td>2016-11-23 12:11:01</td>\n      <td>False</td>\n    </tr>\n    <tr>\n      <th>28581395</th>\n      <td>28581395</td>\n      <td>2016-11-23 13:09:03</td>\n      <td>False</td>\n    </tr>\n    <tr>\n      <th>28581396</th>\n      <td>28581396</td>\n      <td>2016-11-23 13:57:02</td>\n      <td>False</td>\n    </tr>\n    <tr>\n      <th>28581397</th>\n      <td>28581397</td>\n      <td>2016-11-23 18:06:01</td>\n      <td>False</td>\n    </tr>\n  </tbody>\n</table>\n<p>28581398 rows × 3 columns</p>\n</div>"
     },
     "metadata": {},
     "execution_count": 2
    }
   ],
   "source": [
    "query = \"\"\"\n",
    "        SELECT index, timestamp, is_new_mmsi\n",
    "        FROM fishingfeatures;\n",
    "        \"\"\"\n",
    "\n",
    "fishing_time_taken_df = pd.io.sql.read_sql(query, connection)\n",
    "\n",
    "fishing_time_taken_df"
   ]
  },
  {
   "cell_type": "code",
   "execution_count": 31,
   "metadata": {},
   "outputs": [
    {
     "output_type": "execute_result",
     "data": {
      "text/plain": "0 days 00:00:01.000000000    1533016\n0 days 00:00:10.000000000     900974\n0 days 00:00:09.000000000     715097\n0 days 00:00:02.000000000     645432\n0 days 00:00:20.000000000     497393\n                              ...   \n2 days 05:48:36.000000000          1\n2 days 17:53:23.000000000          1\n2 days 09:06:36.000000000          1\n0 days 18:59:34.000000000          1\n4 days 23:41:16.000000000          1\nName: time_taken, Length: 98325, dtype: int64"
     },
     "metadata": {},
     "execution_count": 31
    }
   ],
   "source": [
    "fishing_time_taken_df['time_taken'].value_counts()"
   ]
  },
  {
   "cell_type": "code",
   "execution_count": 20,
   "metadata": {},
   "outputs": [],
   "source": [
    "test_str = fishing_time_taken_df['time_taken'].loc[0]\n",
    "\n",
    "test_str"
   ]
  },
  {
   "cell_type": "code",
   "execution_count": 7,
   "metadata": {},
   "outputs": [
    {
     "output_type": "execute_result",
     "data": {
      "text/plain": "99"
     },
     "metadata": {},
     "execution_count": 7
    }
   ],
   "source": [
    "int(test_str.split(\" days \")[0])"
   ]
  },
  {
   "cell_type": "code",
   "execution_count": null,
   "metadata": {},
   "outputs": [],
   "source": [
    "test_str.split(\" days \")[1].split(\":\")"
   ]
  },
  {
   "cell_type": "code",
   "execution_count": 6,
   "metadata": {},
   "outputs": [],
   "source": [
    "timefactor = [3600, 60, 1]"
   ]
  },
  {
   "cell_type": "code",
   "execution_count": 13,
   "metadata": {},
   "outputs": [
    {
     "output_type": "execute_result",
     "data": {
      "text/plain": "['15', '16', '53.000000000']"
     },
     "metadata": {},
     "execution_count": 13
    }
   ],
   "source": [
    "test_str.split(\" days \")[1].split(\":\")"
   ]
  },
  {
   "cell_type": "code",
   "execution_count": 30,
   "metadata": {},
   "outputs": [
    {
     "output_type": "execute_result",
     "data": {
      "text/plain": "0"
     },
     "metadata": {},
     "execution_count": 30
    }
   ],
   "source": [
    "time = convert_strdelta_to_seconds(test_str)\n",
    "\n",
    "time"
   ]
  },
  {
   "cell_type": "code",
   "execution_count": 4,
   "metadata": {},
   "outputs": [],
   "source": [
    "def convert_strdelta_to_seconds(string):\n",
    "    \n",
    "    timefactor = [3600, 60, 1]\n",
    "\n",
    "    if string == None:\n",
    "        return 0\n",
    "    else:\n",
    "        day_time_split = string.split(\" days \")\n",
    "        return int(day_time_split[0]) * 24 * 3600 + int(sum([float(elem) * factor for elem, factor in zip(day_time_split[1].split(\":\"), timefactor)]))\n"
   ]
  },
  {
   "cell_type": "code",
   "execution_count": 5,
   "metadata": {},
   "outputs": [],
   "source": [
    "fishing_time_taken_df['sec_taken'] = fishing_time_taken_df['time_taken'].apply(convert_strdelta_to_seconds)"
   ]
  },
  {
   "cell_type": "code",
   "execution_count": 6,
   "metadata": {},
   "outputs": [
    {
     "output_type": "execute_result",
     "data": {
      "text/plain": "             index                 time_taken  sec_taken\n0             6702  0 days 04:15:27.000000000      15327\n1             6703  0 days 01:33:31.000000000       5611\n2             6704  0 days 00:39:14.000000000       2354\n3             6705  0 days 01:43:58.000000000       6238\n4             6706  0 days 00:22:06.000000000       1326\n...            ...                        ...        ...\n28581393  28581393  0 days 00:19:01.000000000       1141\n28581394  28581394  0 days 00:27:19.000000000       1639\n28581395  28581395  0 days 00:58:02.000000000       3482\n28581396  28581396  0 days 00:47:59.000000000       2879\n28581397  28581397  0 days 04:08:59.000000000      14939\n\n[28581398 rows x 3 columns]",
      "text/html": "<div>\n<style scoped>\n    .dataframe tbody tr th:only-of-type {\n        vertical-align: middle;\n    }\n\n    .dataframe tbody tr th {\n        vertical-align: top;\n    }\n\n    .dataframe thead th {\n        text-align: right;\n    }\n</style>\n<table border=\"1\" class=\"dataframe\">\n  <thead>\n    <tr style=\"text-align: right;\">\n      <th></th>\n      <th>index</th>\n      <th>time_taken</th>\n      <th>sec_taken</th>\n    </tr>\n  </thead>\n  <tbody>\n    <tr>\n      <th>0</th>\n      <td>6702</td>\n      <td>0 days 04:15:27.000000000</td>\n      <td>15327</td>\n    </tr>\n    <tr>\n      <th>1</th>\n      <td>6703</td>\n      <td>0 days 01:33:31.000000000</td>\n      <td>5611</td>\n    </tr>\n    <tr>\n      <th>2</th>\n      <td>6704</td>\n      <td>0 days 00:39:14.000000000</td>\n      <td>2354</td>\n    </tr>\n    <tr>\n      <th>3</th>\n      <td>6705</td>\n      <td>0 days 01:43:58.000000000</td>\n      <td>6238</td>\n    </tr>\n    <tr>\n      <th>4</th>\n      <td>6706</td>\n      <td>0 days 00:22:06.000000000</td>\n      <td>1326</td>\n    </tr>\n    <tr>\n      <th>...</th>\n      <td>...</td>\n      <td>...</td>\n      <td>...</td>\n    </tr>\n    <tr>\n      <th>28581393</th>\n      <td>28581393</td>\n      <td>0 days 00:19:01.000000000</td>\n      <td>1141</td>\n    </tr>\n    <tr>\n      <th>28581394</th>\n      <td>28581394</td>\n      <td>0 days 00:27:19.000000000</td>\n      <td>1639</td>\n    </tr>\n    <tr>\n      <th>28581395</th>\n      <td>28581395</td>\n      <td>0 days 00:58:02.000000000</td>\n      <td>3482</td>\n    </tr>\n    <tr>\n      <th>28581396</th>\n      <td>28581396</td>\n      <td>0 days 00:47:59.000000000</td>\n      <td>2879</td>\n    </tr>\n    <tr>\n      <th>28581397</th>\n      <td>28581397</td>\n      <td>0 days 04:08:59.000000000</td>\n      <td>14939</td>\n    </tr>\n  </tbody>\n</table>\n<p>28581398 rows × 3 columns</p>\n</div>"
     },
     "metadata": {},
     "execution_count": 6
    }
   ],
   "source": [
    "fishing_time_taken_df"
   ]
  },
  {
   "cell_type": "code",
   "execution_count": 31,
   "metadata": {},
   "outputs": [],
   "source": [
    "import dask"
   ]
  },
  {
   "cell_type": "code",
   "execution_count": 8,
   "metadata": {},
   "outputs": [],
   "source": [
    "fishing_time_taken_df[['index', 'sec_taken']].to_csv(\"./data/fishing boats/fishing_sec.csv\", index=False)"
   ]
  },
  {
   "cell_type": "code",
   "execution_count": 51,
   "metadata": {},
   "outputs": [],
   "source": [
    "cursor.execute('rollback;')"
   ]
  },
  {
   "cell_type": "code",
   "execution_count": null,
   "metadata": {},
   "outputs": [],
   "source": [
    "cursor.execute('commit;')"
   ]
  }
 ],
 "metadata": {
  "language_info": {
   "codemirror_mode": {
    "name": "ipython",
    "version": 3
   },
   "file_extension": ".py",
   "mimetype": "text/x-python",
   "name": "python",
   "nbconvert_exporter": "python",
   "pygments_lexer": "ipython3",
   "version": "3.7.7-final"
  },
  "orig_nbformat": 2,
  "kernelspec": {
   "name": "python3",
   "display_name": "Python 3"
  }
 },
 "nbformat": 4,
 "nbformat_minor": 2
}