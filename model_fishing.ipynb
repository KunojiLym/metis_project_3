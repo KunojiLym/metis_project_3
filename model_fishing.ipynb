{
 "cells": [
  {
   "cell_type": "code",
   "execution_count": 2,
   "metadata": {},
   "outputs": [],
   "source": [
    "import pandas as pd\n",
    "import numpy as np\n",
    "from collections import defaultdict\n",
    "\n",
    "import matplotlib.pyplot as plt\n",
    "import seaborn as sns\n",
    "from ipywidgets import interactive, FloatSlider\n",
    "\n",
    "from sklearn.linear_model import LogisticRegression, LogisticRegressionCV\n",
    "from sklearn.neighbors import KNeighborsClassifier\n",
    "from sklearn.metrics import f1_score, confusion_matrix, precision_score, recall_score, plot_roc_curve\n",
    "from sklearn.model_selection import train_test_split, GridSearchCV, KFold\n",
    "\n",
    "from joblib import dump, load\n",
    "import os\n",
    "\n",
    "import eda\n",
    "\n",
    "import psycopg2 as pg\n",
    "import sql_fish\n",
    "\n",
    "RANDOM = 42\n",
    "connection = sql_fish.fishing_database()"
   ]
  },
  {
   "cell_type": "code",
   "execution_count": 3,
   "metadata": {},
   "outputs": [
    {
     "output_type": "execute_result",
     "data": {
      "text/plain": "   is_fishing  record_count\n0   -1.000000      28027543\n1    0.000000        295979\n2    0.166667            12\n3    0.250000           670\n4    0.333333          4096\n5    0.400000             9\n6    0.666667          4806\n7    0.750000           752\n8    0.800000            33\n9    1.000000        247498",
      "text/html": "<div>\n<style scoped>\n    .dataframe tbody tr th:only-of-type {\n        vertical-align: middle;\n    }\n\n    .dataframe tbody tr th {\n        vertical-align: top;\n    }\n\n    .dataframe thead th {\n        text-align: right;\n    }\n</style>\n<table border=\"1\" class=\"dataframe\">\n  <thead>\n    <tr style=\"text-align: right;\">\n      <th></th>\n      <th>is_fishing</th>\n      <th>record_count</th>\n    </tr>\n  </thead>\n  <tbody>\n    <tr>\n      <th>0</th>\n      <td>-1.000000</td>\n      <td>28027543</td>\n    </tr>\n    <tr>\n      <th>1</th>\n      <td>0.000000</td>\n      <td>295979</td>\n    </tr>\n    <tr>\n      <th>2</th>\n      <td>0.166667</td>\n      <td>12</td>\n    </tr>\n    <tr>\n      <th>3</th>\n      <td>0.250000</td>\n      <td>670</td>\n    </tr>\n    <tr>\n      <th>4</th>\n      <td>0.333333</td>\n      <td>4096</td>\n    </tr>\n    <tr>\n      <th>5</th>\n      <td>0.400000</td>\n      <td>9</td>\n    </tr>\n    <tr>\n      <th>6</th>\n      <td>0.666667</td>\n      <td>4806</td>\n    </tr>\n    <tr>\n      <th>7</th>\n      <td>0.750000</td>\n      <td>752</td>\n    </tr>\n    <tr>\n      <th>8</th>\n      <td>0.800000</td>\n      <td>33</td>\n    </tr>\n    <tr>\n      <th>9</th>\n      <td>1.000000</td>\n      <td>247498</td>\n    </tr>\n  </tbody>\n</table>\n</div>"
     },
     "metadata": {},
     "execution_count": 3
    }
   ],
   "source": [
    "query = \"SELECT is_fishing, COUNT(*) as record_count FROM fishingfeatures GROUP BY is_fishing ORDER BY is_fishing;\"\n",
    "\n",
    "pd.io.sql.read_sql(query, connection)"
   ]
  },
  {
   "cell_type": "code",
   "execution_count": 4,
   "metadata": {},
   "outputs": [
    {
     "output_type": "execute_result",
     "data": {
      "text/plain": "            gear_type  record_count\n0  drifting_longlines      13968727\n1             unknown       6811552\n2            trawlers       4369101\n3          fixed_gear       1559137\n4        purse_seines       1545323\n5            trollers        166243\n6       pole_and_line        161315",
      "text/html": "<div>\n<style scoped>\n    .dataframe tbody tr th:only-of-type {\n        vertical-align: middle;\n    }\n\n    .dataframe tbody tr th {\n        vertical-align: top;\n    }\n\n    .dataframe thead th {\n        text-align: right;\n    }\n</style>\n<table border=\"1\" class=\"dataframe\">\n  <thead>\n    <tr style=\"text-align: right;\">\n      <th></th>\n      <th>gear_type</th>\n      <th>record_count</th>\n    </tr>\n  </thead>\n  <tbody>\n    <tr>\n      <th>0</th>\n      <td>drifting_longlines</td>\n      <td>13968727</td>\n    </tr>\n    <tr>\n      <th>1</th>\n      <td>unknown</td>\n      <td>6811552</td>\n    </tr>\n    <tr>\n      <th>2</th>\n      <td>trawlers</td>\n      <td>4369101</td>\n    </tr>\n    <tr>\n      <th>3</th>\n      <td>fixed_gear</td>\n      <td>1559137</td>\n    </tr>\n    <tr>\n      <th>4</th>\n      <td>purse_seines</td>\n      <td>1545323</td>\n    </tr>\n    <tr>\n      <th>5</th>\n      <td>trollers</td>\n      <td>166243</td>\n    </tr>\n    <tr>\n      <th>6</th>\n      <td>pole_and_line</td>\n      <td>161315</td>\n    </tr>\n  </tbody>\n</table>\n</div>"
     },
     "metadata": {},
     "execution_count": 4
    }
   ],
   "source": [
    "query = \"SELECT gear_type, COUNT(*) AS record_count FROM fishingfeatures GROUP BY gear_type ORDER BY record_count DESC;\"\n",
    "\n",
    "gear_record_summary_df = pd.io.sql.read_sql(query, connection)\n",
    "\n",
    "gear_record_summary_df"
   ]
  },
  {
   "cell_type": "code",
   "execution_count": 5,
   "metadata": {},
   "outputs": [
    {
     "output_type": "execute_result",
     "data": {
      "text/plain": "            gear_type  ship_count\n0             unknown         120\n1  drifting_longlines         110\n2            trawlers          49\n3          fixed_gear          36\n4        purse_seines          28\n5       pole_and_line           6\n6            trollers           5",
      "text/html": "<div>\n<style scoped>\n    .dataframe tbody tr th:only-of-type {\n        vertical-align: middle;\n    }\n\n    .dataframe tbody tr th {\n        vertical-align: top;\n    }\n\n    .dataframe thead th {\n        text-align: right;\n    }\n</style>\n<table border=\"1\" class=\"dataframe\">\n  <thead>\n    <tr style=\"text-align: right;\">\n      <th></th>\n      <th>gear_type</th>\n      <th>ship_count</th>\n    </tr>\n  </thead>\n  <tbody>\n    <tr>\n      <th>0</th>\n      <td>unknown</td>\n      <td>120</td>\n    </tr>\n    <tr>\n      <th>1</th>\n      <td>drifting_longlines</td>\n      <td>110</td>\n    </tr>\n    <tr>\n      <th>2</th>\n      <td>trawlers</td>\n      <td>49</td>\n    </tr>\n    <tr>\n      <th>3</th>\n      <td>fixed_gear</td>\n      <td>36</td>\n    </tr>\n    <tr>\n      <th>4</th>\n      <td>purse_seines</td>\n      <td>28</td>\n    </tr>\n    <tr>\n      <th>5</th>\n      <td>pole_and_line</td>\n      <td>6</td>\n    </tr>\n    <tr>\n      <th>6</th>\n      <td>trollers</td>\n      <td>5</td>\n    </tr>\n  </tbody>\n</table>\n</div>"
     },
     "metadata": {},
     "execution_count": 5
    }
   ],
   "source": [
    "query = \"SELECT gear_type, COUNT(DISTINCT mmsi) AS ship_count FROM fishingfeatures GROUP BY gear_type ORDER BY ship_count DESC;\"\n",
    "\n",
    "gear_ship_summary_df = pd.io.sql.read_sql(query, connection)\n",
    "\n",
    "gear_ship_summary_df"
   ]
  },
  {
   "cell_type": "code",
   "execution_count": null,
   "metadata": {},
   "outputs": [],
   "source": [
    "query = \"SELECT * FROM fishingfeatures WHERE is_fishing != -1;\"\n",
    "\n",
    "fishing_raw_df = pd.io.sql.read_sql(query, connection)\n",
    "\n",
    "fishing_raw_df"
   ]
  }
 ],
 "metadata": {
  "language_info": {
   "codemirror_mode": {
    "name": "ipython",
    "version": 3
   },
   "file_extension": ".py",
   "mimetype": "text/x-python",
   "name": "python",
   "nbconvert_exporter": "python",
   "pygments_lexer": "ipython3",
   "version": "3.7.7-final"
  },
  "orig_nbformat": 2,
  "kernelspec": {
   "name": "python3",
   "display_name": "Python 3"
  }
 },
 "nbformat": 4,
 "nbformat_minor": 2
}