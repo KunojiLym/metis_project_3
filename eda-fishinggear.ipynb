{
 "cells": [
  {
   "cell_type": "markdown",
   "metadata": {},
   "source": [
    "Time to categorise vessels"
   ]
  },
  {
   "cell_type": "code",
   "execution_count": 1,
   "metadata": {},
   "outputs": [],
   "source": [
    "import pandas as pd\n",
    "import numpy as np\n",
    "from collections import defaultdict\n",
    "\n",
    "import geopy.distance\n",
    "\n",
    "import matplotlib.pyplot as plt\n",
    "import seaborn as sns\n",
    "from ipywidgets import interactive, FloatSlider\n",
    "\n",
    "from sklearn.linear_model import LogisticRegression, LogisticRegressionCV\n",
    "from sklearn.neighbors import KNeighborsClassifier\n",
    "from sklearn.metrics import f1_score, confusion_matrix, precision_score, recall_score, plot_roc_curve\n",
    "from sklearn.model_selection import train_test_split, GridSearchCV, KFold\n",
    "\n",
    "from joblib import dump, load\n",
    "\n",
    "import eda\n",
    "\n",
    "import psycopg2 as pg\n",
    "import sql_fish\n",
    "\n",
    "RANDOM = 42\n",
    "connection = sql_fish.fishing_database()"
   ]
  },
  {
   "cell_type": "markdown",
   "metadata": {},
   "source": [
    "load a sample of all ship types except unknown (20k rows)"
   ]
  },
  {
   "cell_type": "code",
   "execution_count": null,
   "metadata": {},
   "outputs": [],
   "source": [
    "query = \"\"\"\n",
    "    SELECT * FROM (\n",
    "        SELECT DISTINCT 1 + trunc(random() * 5100000)::integer AS id\n",
    "        FROM generate_series(1, 1100) g\n",
    "        ) r\n",
    "    JOIN    fishingfeatures USING (id)\n",
    "    WHERE   fishingfeatures.gear_type != 'unknown'\n",
    "    LIMIT   20000;\n",
    "        \"\"\"\n",
    "\n",
    "fishing_type_sample_df = pd.io.sql.read_sql(query, connection)\n",
    "\n",
    "fishing_type_sample_df"
   ]
  }
 ],
 "metadata": {
  "language_info": {
   "codemirror_mode": {
    "name": "ipython",
    "version": 3
   },
   "file_extension": ".py",
   "mimetype": "text/x-python",
   "name": "python",
   "nbconvert_exporter": "python",
   "pygments_lexer": "ipython3",
   "version": "3.7.7-final"
  },
  "orig_nbformat": 2,
  "kernelspec": {
   "name": "python3",
   "display_name": "Python 3"
  }
 },
 "nbformat": 4,
 "nbformat_minor": 2
}