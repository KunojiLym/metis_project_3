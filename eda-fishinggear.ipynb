{
 "cells": [
  {
   "cell_type": "markdown",
   "metadata": {},
   "source": [
    "Time to categorise vessels"
   ]
  },
  {
   "cell_type": "code",
   "execution_count": 1,
   "metadata": {},
   "outputs": [],
   "source": [
    "import pandas as pd\n",
    "import numpy as np\n",
    "from collections import defaultdict\n",
    "\n",
    "import geopy.distance\n",
    "\n",
    "import matplotlib.pyplot as plt\n",
    "import seaborn as sns\n",
    "from ipywidgets import interactive, FloatSlider\n",
    "\n",
    "from sklearn.linear_model import LogisticRegression, LogisticRegressionCV\n",
    "from sklearn.neighbors import KNeighborsClassifier\n",
    "from sklearn.metrics import f1_score, confusion_matrix, precision_score, recall_score, plot_roc_curve\n",
    "from sklearn.model_selection import train_test_split, GridSearchCV, KFold\n",
    "\n",
    "from joblib import dump, load\n",
    "\n",
    "import eda\n",
    "\n",
    "RANDOM = 42"
   ]
  },
  {
   "cell_type": "markdown",
   "metadata": {},
   "source": [
    "load all ship types except unknown"
   ]
  },
  {
   "cell_type": "code",
   "execution_count": null,
   "metadata": {},
   "outputs": [],
   "source": [
    "fishing_path = \"./data/fishing boats/\"\n",
    "\n",
    "gear_types = [\"drifting_longlines\", \"fixed_gear\", \"pole_and_line\", \"purse_seines\", \"trawlers\", \"trollers\"]\n",
    "\n",
    "fishing_raw_dfs = defaultdict(pd.DataFrame)\n",
    "\n",
    "for gear_type in gear_types:\n",
    "    fishing_raw_dfs[gear_type] = pd.read_csv(fishing_path + gear_type + \".csv\", parse_dates=['timestamp'], date_parser=lambda col: pd.to_datetime(col, unit='s'))\n",
    "    fishing_raw_dfs[gear_type][\"gear_type\"] = gear_type"
   ]
  }
 ],
 "metadata": {
  "language_info": {
   "codemirror_mode": {
    "name": "ipython",
    "version": 3
   },
   "file_extension": ".py",
   "mimetype": "text/x-python",
   "name": "python",
   "nbconvert_exporter": "python",
   "pygments_lexer": "ipython3",
   "version": "3.7.7-final"
  },
  "orig_nbformat": 2,
  "kernelspec": {
   "name": "python3",
   "display_name": "Python 3"
  }
 },
 "nbformat": 4,
 "nbformat_minor": 2
}