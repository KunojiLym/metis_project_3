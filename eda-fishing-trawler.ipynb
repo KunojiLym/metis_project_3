{
 "cells": [
  {
   "cell_type": "markdown",
   "metadata": {},
   "source": [
    "EDA on trawler dataset as a proxy for the more general dataset"
   ]
  },
  {
   "cell_type": "code",
   "execution_count": 1,
   "metadata": {},
   "outputs": [],
   "source": [
    "import pandas as pd\n",
    "import numpy as np\n",
    "import time\n",
    "\n",
    "import geopy.distance\n",
    "\n",
    "import matplotlib.pyplot as plt\n",
    "import seaborn as sns\n",
    "from ipywidgets import interactive, FloatSlider\n",
    "\n",
    "from sklearn.linear_model import LogisticRegression, LogisticRegressionCV\n",
    "from sklearn.neighbors import KNeighborsClassifier\n",
    "from sklearn.metrics import f1_score, confusion_matrix, precision_score, recall_score, plot_roc_curve\n",
    "from sklearn.model_selection import train_test_split, GridSearchCV, KFold\n",
    "\n",
    "import eda\n",
    "\n",
    "RANDOM = 42"
   ]
  },
  {
   "cell_type": "code",
   "execution_count": 2,
   "metadata": {},
   "outputs": [],
   "source": [
    "fishing_path = \"./data/fishing boats/\"\n",
    "\n",
    "trawler_raw_df = pd.read_csv(fishing_path + \"trawlers.csv\", parse_dates=['timestamp'], date_parser=lambda col: pd.to_datetime(col, unit='s'))"
   ]
  },
  {
   "cell_type": "code",
   "execution_count": 3,
   "metadata": {},
   "outputs": [],
   "source": [
    "boats_raw_df = pd.read_csv(fishing_path + \"fishing-vessels-v1.csv\")"
   ]
  },
  {
   "cell_type": "code",
   "execution_count": 4,
   "metadata": {},
   "outputs": [
    {
     "output_type": "execute_result",
     "data": {
      "text/plain": "            mmsi flag            geartype     length     tonnage  \\\n0      603100157  AGO            trawlers  32.808468  299.003814   \n1      603100137  AGO            trawlers  34.568782  395.683171   \n2      603100161  AGO            trawlers  28.822140  263.849149   \n3      603100174  AGO            trawlers  30.721429  299.700916   \n4      603100164  AGO            trawlers  37.479248  405.967747   \n...          ...  ...                 ...        ...         ...   \n73004  601764000  ZAF  drifting_longlines  17.032258   52.550920   \n73005  601089100  ZAF  drifting_longlines  22.915622  180.506028   \n73006  601849000  ZAF  drifting_longlines  19.692080   86.485661   \n73007  601183700  ZAF  drifting_longlines  31.872860  307.446773   \n73008  601826000  ZAF  drifting_longlines  25.401070  160.784917   \n\n       engine_power  active_2012  active_2013  active_2014  active_2015  \\\n0        733.826977        False        False        False         True   \n1        864.960188        False        False        False         True   \n2        651.809642        False        False        False         True   \n3        703.796086        False        False        False         True   \n4        850.976640        False        False        False         True   \n...             ...          ...          ...          ...          ...   \n73004    207.818629        False         True         True         True   \n73005    527.507463        False        False        False         True   \n73006    362.553279        False        False         True         True   \n73007    977.330342        False        False         True         True   \n73008    365.421212        False        False        False        False   \n\n       active_2016  \n0             True  \n1             True  \n2             True  \n3             True  \n4             True  \n...            ...  \n73004         True  \n73005         True  \n73006         True  \n73007         True  \n73008         True  \n\n[73009 rows x 11 columns]",
      "text/html": "<div>\n<style scoped>\n    .dataframe tbody tr th:only-of-type {\n        vertical-align: middle;\n    }\n\n    .dataframe tbody tr th {\n        vertical-align: top;\n    }\n\n    .dataframe thead th {\n        text-align: right;\n    }\n</style>\n<table border=\"1\" class=\"dataframe\">\n  <thead>\n    <tr style=\"text-align: right;\">\n      <th></th>\n      <th>mmsi</th>\n      <th>flag</th>\n      <th>geartype</th>\n      <th>length</th>\n      <th>tonnage</th>\n      <th>engine_power</th>\n      <th>active_2012</th>\n      <th>active_2013</th>\n      <th>active_2014</th>\n      <th>active_2015</th>\n      <th>active_2016</th>\n    </tr>\n  </thead>\n  <tbody>\n    <tr>\n      <th>0</th>\n      <td>603100157</td>\n      <td>AGO</td>\n      <td>trawlers</td>\n      <td>32.808468</td>\n      <td>299.003814</td>\n      <td>733.826977</td>\n      <td>False</td>\n      <td>False</td>\n      <td>False</td>\n      <td>True</td>\n      <td>True</td>\n    </tr>\n    <tr>\n      <th>1</th>\n      <td>603100137</td>\n      <td>AGO</td>\n      <td>trawlers</td>\n      <td>34.568782</td>\n      <td>395.683171</td>\n      <td>864.960188</td>\n      <td>False</td>\n      <td>False</td>\n      <td>False</td>\n      <td>True</td>\n      <td>True</td>\n    </tr>\n    <tr>\n      <th>2</th>\n      <td>603100161</td>\n      <td>AGO</td>\n      <td>trawlers</td>\n      <td>28.822140</td>\n      <td>263.849149</td>\n      <td>651.809642</td>\n      <td>False</td>\n      <td>False</td>\n      <td>False</td>\n      <td>True</td>\n      <td>True</td>\n    </tr>\n    <tr>\n      <th>3</th>\n      <td>603100174</td>\n      <td>AGO</td>\n      <td>trawlers</td>\n      <td>30.721429</td>\n      <td>299.700916</td>\n      <td>703.796086</td>\n      <td>False</td>\n      <td>False</td>\n      <td>False</td>\n      <td>True</td>\n      <td>True</td>\n    </tr>\n    <tr>\n      <th>4</th>\n      <td>603100164</td>\n      <td>AGO</td>\n      <td>trawlers</td>\n      <td>37.479248</td>\n      <td>405.967747</td>\n      <td>850.976640</td>\n      <td>False</td>\n      <td>False</td>\n      <td>False</td>\n      <td>True</td>\n      <td>True</td>\n    </tr>\n    <tr>\n      <th>...</th>\n      <td>...</td>\n      <td>...</td>\n      <td>...</td>\n      <td>...</td>\n      <td>...</td>\n      <td>...</td>\n      <td>...</td>\n      <td>...</td>\n      <td>...</td>\n      <td>...</td>\n      <td>...</td>\n    </tr>\n    <tr>\n      <th>73004</th>\n      <td>601764000</td>\n      <td>ZAF</td>\n      <td>drifting_longlines</td>\n      <td>17.032258</td>\n      <td>52.550920</td>\n      <td>207.818629</td>\n      <td>False</td>\n      <td>True</td>\n      <td>True</td>\n      <td>True</td>\n      <td>True</td>\n    </tr>\n    <tr>\n      <th>73005</th>\n      <td>601089100</td>\n      <td>ZAF</td>\n      <td>drifting_longlines</td>\n      <td>22.915622</td>\n      <td>180.506028</td>\n      <td>527.507463</td>\n      <td>False</td>\n      <td>False</td>\n      <td>False</td>\n      <td>True</td>\n      <td>True</td>\n    </tr>\n    <tr>\n      <th>73006</th>\n      <td>601849000</td>\n      <td>ZAF</td>\n      <td>drifting_longlines</td>\n      <td>19.692080</td>\n      <td>86.485661</td>\n      <td>362.553279</td>\n      <td>False</td>\n      <td>False</td>\n      <td>True</td>\n      <td>True</td>\n      <td>True</td>\n    </tr>\n    <tr>\n      <th>73007</th>\n      <td>601183700</td>\n      <td>ZAF</td>\n      <td>drifting_longlines</td>\n      <td>31.872860</td>\n      <td>307.446773</td>\n      <td>977.330342</td>\n      <td>False</td>\n      <td>False</td>\n      <td>True</td>\n      <td>True</td>\n      <td>True</td>\n    </tr>\n    <tr>\n      <th>73008</th>\n      <td>601826000</td>\n      <td>ZAF</td>\n      <td>drifting_longlines</td>\n      <td>25.401070</td>\n      <td>160.784917</td>\n      <td>365.421212</td>\n      <td>False</td>\n      <td>False</td>\n      <td>False</td>\n      <td>False</td>\n      <td>True</td>\n    </tr>\n  </tbody>\n</table>\n<p>73009 rows × 11 columns</p>\n</div>"
     },
     "metadata": {},
     "execution_count": 4
    }
   ],
   "source": [
    "boats_raw_df"
   ]
  },
  {
   "cell_type": "code",
   "execution_count": 5,
   "metadata": {},
   "outputs": [
    {
     "output_type": "execute_result",
     "data": {
      "text/plain": "                 mmsi           timestamp  distance_from_shore  \\\n0        1.252340e+12 2012-01-01 00:00:38             0.000000   \n1        1.252340e+12 2012-01-01 00:33:13             0.000000   \n2        1.252340e+12 2012-01-01 00:43:14             0.000000   \n3        1.252340e+12 2012-01-01 00:59:55             0.000000   \n4        1.252340e+12 2012-01-01 01:16:00             0.000000   \n...               ...                 ...                  ...   \n4369096  1.838128e+14 2016-11-24 23:36:39        172998.640625   \n4369097  1.838128e+14 2016-11-24 23:38:37        173595.859375   \n4369098  1.838128e+14 2016-11-24 23:40:39        174995.703125   \n4369099  1.838128e+14 2016-11-24 23:41:38        174995.703125   \n4369100  1.838128e+14 2016-11-24 23:43:36        175597.515625   \n\n         distance_from_port  speed      course        lat         lon  \\\n0                  0.000000    0.0  153.000000  52.458649    4.581200   \n1                  0.000000    0.0  153.000000  52.458668    4.581167   \n2                  0.000000    0.0  153.000000  52.458633    4.581183   \n3                  0.000000    0.0  153.000000  52.458649    4.581234   \n4                  0.000000    0.0  153.000000  52.458649    4.581183   \n...                     ...    ...         ...        ...         ...   \n4369096       239263.859375   11.2  166.800003 -42.847645  175.192535   \n4369097       240246.062500   11.7  163.100006 -42.853741  175.194473   \n4369098       241416.937500   11.2  168.699997 -42.860050  175.196487   \n4369099       241416.937500   11.5  169.100006 -42.863056  175.197464   \n4369100       242398.671875   11.0  163.800003 -42.869095  175.199799   \n\n         is_fishing           source  \n0              -1.0              gfw  \n1              -1.0              gfw  \n2              -1.0              gfw  \n3              -1.0              gfw  \n4              -1.0              gfw  \n...             ...              ...  \n4369096        -1.0  false_positives  \n4369097        -1.0  false_positives  \n4369098        -1.0  false_positives  \n4369099        -1.0  false_positives  \n4369100        -1.0  false_positives  \n\n[4369101 rows x 10 columns]",
      "text/html": "<div>\n<style scoped>\n    .dataframe tbody tr th:only-of-type {\n        vertical-align: middle;\n    }\n\n    .dataframe tbody tr th {\n        vertical-align: top;\n    }\n\n    .dataframe thead th {\n        text-align: right;\n    }\n</style>\n<table border=\"1\" class=\"dataframe\">\n  <thead>\n    <tr style=\"text-align: right;\">\n      <th></th>\n      <th>mmsi</th>\n      <th>timestamp</th>\n      <th>distance_from_shore</th>\n      <th>distance_from_port</th>\n      <th>speed</th>\n      <th>course</th>\n      <th>lat</th>\n      <th>lon</th>\n      <th>is_fishing</th>\n      <th>source</th>\n    </tr>\n  </thead>\n  <tbody>\n    <tr>\n      <th>0</th>\n      <td>1.252340e+12</td>\n      <td>2012-01-01 00:00:38</td>\n      <td>0.000000</td>\n      <td>0.000000</td>\n      <td>0.0</td>\n      <td>153.000000</td>\n      <td>52.458649</td>\n      <td>4.581200</td>\n      <td>-1.0</td>\n      <td>gfw</td>\n    </tr>\n    <tr>\n      <th>1</th>\n      <td>1.252340e+12</td>\n      <td>2012-01-01 00:33:13</td>\n      <td>0.000000</td>\n      <td>0.000000</td>\n      <td>0.0</td>\n      <td>153.000000</td>\n      <td>52.458668</td>\n      <td>4.581167</td>\n      <td>-1.0</td>\n      <td>gfw</td>\n    </tr>\n    <tr>\n      <th>2</th>\n      <td>1.252340e+12</td>\n      <td>2012-01-01 00:43:14</td>\n      <td>0.000000</td>\n      <td>0.000000</td>\n      <td>0.0</td>\n      <td>153.000000</td>\n      <td>52.458633</td>\n      <td>4.581183</td>\n      <td>-1.0</td>\n      <td>gfw</td>\n    </tr>\n    <tr>\n      <th>3</th>\n      <td>1.252340e+12</td>\n      <td>2012-01-01 00:59:55</td>\n      <td>0.000000</td>\n      <td>0.000000</td>\n      <td>0.0</td>\n      <td>153.000000</td>\n      <td>52.458649</td>\n      <td>4.581234</td>\n      <td>-1.0</td>\n      <td>gfw</td>\n    </tr>\n    <tr>\n      <th>4</th>\n      <td>1.252340e+12</td>\n      <td>2012-01-01 01:16:00</td>\n      <td>0.000000</td>\n      <td>0.000000</td>\n      <td>0.0</td>\n      <td>153.000000</td>\n      <td>52.458649</td>\n      <td>4.581183</td>\n      <td>-1.0</td>\n      <td>gfw</td>\n    </tr>\n    <tr>\n      <th>...</th>\n      <td>...</td>\n      <td>...</td>\n      <td>...</td>\n      <td>...</td>\n      <td>...</td>\n      <td>...</td>\n      <td>...</td>\n      <td>...</td>\n      <td>...</td>\n      <td>...</td>\n    </tr>\n    <tr>\n      <th>4369096</th>\n      <td>1.838128e+14</td>\n      <td>2016-11-24 23:36:39</td>\n      <td>172998.640625</td>\n      <td>239263.859375</td>\n      <td>11.2</td>\n      <td>166.800003</td>\n      <td>-42.847645</td>\n      <td>175.192535</td>\n      <td>-1.0</td>\n      <td>false_positives</td>\n    </tr>\n    <tr>\n      <th>4369097</th>\n      <td>1.838128e+14</td>\n      <td>2016-11-24 23:38:37</td>\n      <td>173595.859375</td>\n      <td>240246.062500</td>\n      <td>11.7</td>\n      <td>163.100006</td>\n      <td>-42.853741</td>\n      <td>175.194473</td>\n      <td>-1.0</td>\n      <td>false_positives</td>\n    </tr>\n    <tr>\n      <th>4369098</th>\n      <td>1.838128e+14</td>\n      <td>2016-11-24 23:40:39</td>\n      <td>174995.703125</td>\n      <td>241416.937500</td>\n      <td>11.2</td>\n      <td>168.699997</td>\n      <td>-42.860050</td>\n      <td>175.196487</td>\n      <td>-1.0</td>\n      <td>false_positives</td>\n    </tr>\n    <tr>\n      <th>4369099</th>\n      <td>1.838128e+14</td>\n      <td>2016-11-24 23:41:38</td>\n      <td>174995.703125</td>\n      <td>241416.937500</td>\n      <td>11.5</td>\n      <td>169.100006</td>\n      <td>-42.863056</td>\n      <td>175.197464</td>\n      <td>-1.0</td>\n      <td>false_positives</td>\n    </tr>\n    <tr>\n      <th>4369100</th>\n      <td>1.838128e+14</td>\n      <td>2016-11-24 23:43:36</td>\n      <td>175597.515625</td>\n      <td>242398.671875</td>\n      <td>11.0</td>\n      <td>163.800003</td>\n      <td>-42.869095</td>\n      <td>175.199799</td>\n      <td>-1.0</td>\n      <td>false_positives</td>\n    </tr>\n  </tbody>\n</table>\n<p>4369101 rows × 10 columns</p>\n</div>"
     },
     "metadata": {},
     "execution_count": 5
    }
   ],
   "source": [
    "trawler_raw_df"
   ]
  },
  {
   "cell_type": "code",
   "execution_count": 6,
   "metadata": {},
   "outputs": [
    {
     "output_type": "execute_result",
     "data": {
      "text/plain": "-1.000000    4191707\n 0.000000     112999\n 1.000000      61930\n 0.666667       1639\n 0.333333        760\n 0.750000         34\n 0.250000         32\nName: is_fishing, dtype: int64"
     },
     "metadata": {},
     "execution_count": 6
    }
   ],
   "source": [
    "trawler_raw_df.is_fishing.value_counts()"
   ]
  },
  {
   "cell_type": "code",
   "execution_count": 7,
   "metadata": {},
   "outputs": [],
   "source": [
    "trawler_df = trawler_raw_df[(trawler_raw_df.is_fishing == 1) | (trawler_raw_df.is_fishing == 0)]"
   ]
  },
  {
   "cell_type": "code",
   "execution_count": 8,
   "metadata": {},
   "outputs": [
    {
     "output_type": "execute_result",
     "data": {
      "text/plain": "                 mmsi           timestamp  distance_from_shore  \\\n60646    1.252340e+12 2015-01-01 05:08:23             0.000000   \n60647    1.252340e+12 2015-01-01 05:20:34             0.000000   \n60648    1.252340e+12 2015-01-01 05:32:53             0.000000   \n60649    1.252340e+12 2015-01-01 05:45:23             0.000000   \n60650    1.252340e+12 2015-01-01 05:57:24             0.000000   \n...               ...                 ...                  ...   \n4324371  1.838128e+14 2015-08-28 10:30:09         23344.662109   \n4324372  1.838128e+14 2015-08-28 10:46:14         21212.683594   \n4324373  1.838128e+14 2015-08-28 11:04:38         18681.083984   \n4324374  1.838128e+14 2015-08-28 11:21:16         16999.582031   \n4324375  1.838128e+14 2015-08-28 13:27:18         18999.533203   \n\n         distance_from_port  speed      course        lat         lon  \\\n60646              0.000000    0.0  128.000000  52.458717    4.581316   \n60647              0.000000    0.0  128.000000  52.458733    4.581316   \n60648              0.000000    0.0  128.000000  52.458698    4.581267   \n60649              0.000000    0.0  128.000000  52.458698    4.581234   \n60650              0.000000    0.0  128.000000  52.458683    4.581183   \n...                     ...    ...         ...        ...         ...   \n4324371        54560.550781   10.3  123.300003 -40.340950  172.884033   \n4324372        54376.968750   10.2  120.400002 -40.362152  172.927811   \n4324373        55315.910156   10.1  124.400002 -40.393635  172.991333   \n4324374        56637.820312   10.4  121.099998 -40.420013  173.044662   \n4324375        54670.406250    6.8  122.099998 -40.558834  173.214951   \n\n         is_fishing           source  \n60646           0.0              gfw  \n60647           0.0              gfw  \n60648           0.0              gfw  \n60649           0.0              gfw  \n60650           0.0              gfw  \n...             ...              ...  \n4324371         0.0  false_positives  \n4324372         0.0  false_positives  \n4324373         0.0  false_positives  \n4324374         0.0  false_positives  \n4324375         0.0  false_positives  \n\n[174929 rows x 10 columns]",
      "text/html": "<div>\n<style scoped>\n    .dataframe tbody tr th:only-of-type {\n        vertical-align: middle;\n    }\n\n    .dataframe tbody tr th {\n        vertical-align: top;\n    }\n\n    .dataframe thead th {\n        text-align: right;\n    }\n</style>\n<table border=\"1\" class=\"dataframe\">\n  <thead>\n    <tr style=\"text-align: right;\">\n      <th></th>\n      <th>mmsi</th>\n      <th>timestamp</th>\n      <th>distance_from_shore</th>\n      <th>distance_from_port</th>\n      <th>speed</th>\n      <th>course</th>\n      <th>lat</th>\n      <th>lon</th>\n      <th>is_fishing</th>\n      <th>source</th>\n    </tr>\n  </thead>\n  <tbody>\n    <tr>\n      <th>60646</th>\n      <td>1.252340e+12</td>\n      <td>2015-01-01 05:08:23</td>\n      <td>0.000000</td>\n      <td>0.000000</td>\n      <td>0.0</td>\n      <td>128.000000</td>\n      <td>52.458717</td>\n      <td>4.581316</td>\n      <td>0.0</td>\n      <td>gfw</td>\n    </tr>\n    <tr>\n      <th>60647</th>\n      <td>1.252340e+12</td>\n      <td>2015-01-01 05:20:34</td>\n      <td>0.000000</td>\n      <td>0.000000</td>\n      <td>0.0</td>\n      <td>128.000000</td>\n      <td>52.458733</td>\n      <td>4.581316</td>\n      <td>0.0</td>\n      <td>gfw</td>\n    </tr>\n    <tr>\n      <th>60648</th>\n      <td>1.252340e+12</td>\n      <td>2015-01-01 05:32:53</td>\n      <td>0.000000</td>\n      <td>0.000000</td>\n      <td>0.0</td>\n      <td>128.000000</td>\n      <td>52.458698</td>\n      <td>4.581267</td>\n      <td>0.0</td>\n      <td>gfw</td>\n    </tr>\n    <tr>\n      <th>60649</th>\n      <td>1.252340e+12</td>\n      <td>2015-01-01 05:45:23</td>\n      <td>0.000000</td>\n      <td>0.000000</td>\n      <td>0.0</td>\n      <td>128.000000</td>\n      <td>52.458698</td>\n      <td>4.581234</td>\n      <td>0.0</td>\n      <td>gfw</td>\n    </tr>\n    <tr>\n      <th>60650</th>\n      <td>1.252340e+12</td>\n      <td>2015-01-01 05:57:24</td>\n      <td>0.000000</td>\n      <td>0.000000</td>\n      <td>0.0</td>\n      <td>128.000000</td>\n      <td>52.458683</td>\n      <td>4.581183</td>\n      <td>0.0</td>\n      <td>gfw</td>\n    </tr>\n    <tr>\n      <th>...</th>\n      <td>...</td>\n      <td>...</td>\n      <td>...</td>\n      <td>...</td>\n      <td>...</td>\n      <td>...</td>\n      <td>...</td>\n      <td>...</td>\n      <td>...</td>\n      <td>...</td>\n    </tr>\n    <tr>\n      <th>4324371</th>\n      <td>1.838128e+14</td>\n      <td>2015-08-28 10:30:09</td>\n      <td>23344.662109</td>\n      <td>54560.550781</td>\n      <td>10.3</td>\n      <td>123.300003</td>\n      <td>-40.340950</td>\n      <td>172.884033</td>\n      <td>0.0</td>\n      <td>false_positives</td>\n    </tr>\n    <tr>\n      <th>4324372</th>\n      <td>1.838128e+14</td>\n      <td>2015-08-28 10:46:14</td>\n      <td>21212.683594</td>\n      <td>54376.968750</td>\n      <td>10.2</td>\n      <td>120.400002</td>\n      <td>-40.362152</td>\n      <td>172.927811</td>\n      <td>0.0</td>\n      <td>false_positives</td>\n    </tr>\n    <tr>\n      <th>4324373</th>\n      <td>1.838128e+14</td>\n      <td>2015-08-28 11:04:38</td>\n      <td>18681.083984</td>\n      <td>55315.910156</td>\n      <td>10.1</td>\n      <td>124.400002</td>\n      <td>-40.393635</td>\n      <td>172.991333</td>\n      <td>0.0</td>\n      <td>false_positives</td>\n    </tr>\n    <tr>\n      <th>4324374</th>\n      <td>1.838128e+14</td>\n      <td>2015-08-28 11:21:16</td>\n      <td>16999.582031</td>\n      <td>56637.820312</td>\n      <td>10.4</td>\n      <td>121.099998</td>\n      <td>-40.420013</td>\n      <td>173.044662</td>\n      <td>0.0</td>\n      <td>false_positives</td>\n    </tr>\n    <tr>\n      <th>4324375</th>\n      <td>1.838128e+14</td>\n      <td>2015-08-28 13:27:18</td>\n      <td>18999.533203</td>\n      <td>54670.406250</td>\n      <td>6.8</td>\n      <td>122.099998</td>\n      <td>-40.558834</td>\n      <td>173.214951</td>\n      <td>0.0</td>\n      <td>false_positives</td>\n    </tr>\n  </tbody>\n</table>\n<p>174929 rows × 10 columns</p>\n</div>"
     },
     "metadata": {},
     "execution_count": 8
    }
   ],
   "source": [
    "trawler_df"
   ]
  },
  {
   "cell_type": "code",
   "execution_count": 9,
   "metadata": {},
   "outputs": [
    {
     "output_type": "execute_result",
     "data": {
      "text/plain": "distance_from_shore    45\ndistance_from_port     45\nspeed                  45\ncourse                 45\nlat                    45\nlon                    45\nis_fishing             45\ndtype: int64"
     },
     "metadata": {},
     "execution_count": 9
    }
   ],
   "source": [
    "trawler_df.groupby('mmsi').mean().count()"
   ]
  },
  {
   "cell_type": "code",
   "execution_count": 10,
   "metadata": {},
   "outputs": [
    {
     "output_type": "execute_result",
     "data": {
      "text/plain": "dalhousie_trawl    89974\ngfw                80896\nfalse_positives     4059\nName: source, dtype: int64"
     },
     "metadata": {},
     "execution_count": 10
    }
   ],
   "source": [
    "trawler_df.source.value_counts()"
   ]
  },
  {
   "cell_type": "code",
   "execution_count": 11,
   "metadata": {},
   "outputs": [
    {
     "output_type": "execute_result",
     "data": {
      "text/plain": "0.0    4059\nName: is_fishing, dtype: int64"
     },
     "metadata": {},
     "execution_count": 11
    }
   ],
   "source": [
    "trawler_df[trawler_df.source == 'false_positives'].is_fishing.value_counts()"
   ]
  },
  {
   "cell_type": "code",
   "execution_count": 12,
   "metadata": {},
   "outputs": [],
   "source": [
    "trawler_df['year'] = pd.DatetimeIndex(trawler_df['timestamp']).year\n",
    "trawler_df['month'] = pd.DatetimeIndex(trawler_df['timestamp']).month\n",
    "trawler_df['day'] = pd.DatetimeIndex(trawler_df['timestamp']).day\n",
    "trawler_df['hour'] = pd.DatetimeIndex(trawler_df['timestamp']).hour\n",
    "trawler_df['minute'] = pd.DatetimeIndex(trawler_df['timestamp']).minute"
   ]
  },
  {
   "cell_type": "code",
   "execution_count": 13,
   "metadata": {},
   "outputs": [
    {
     "output_type": "execute_result",
     "data": {
      "text/plain": "0.0    106364\n1.0     50511\nName: is_fishing, dtype: int64"
     },
     "metadata": {},
     "execution_count": 13
    }
   ],
   "source": [
    "trawler_df.groupby(['mmsi', 'year', 'month', 'day', 'hour', 'minute']).mean().is_fishing.value_counts()"
   ]
  },
  {
   "cell_type": "code",
   "execution_count": 14,
   "metadata": {},
   "outputs": [
    {
     "output_type": "execute_result",
     "data": {
      "text/plain": "                                         distance_from_shore  \\\nmmsi         year month day hour minute                        \n1.252340e+12 2015 1     1   5    8                  0.000000   \n                                 20                 0.000000   \n                                 32                 0.000000   \n                                 45                 0.000000   \n                                 57                 0.000000   \n...                                                      ...   \n2.775153e+14 2015 12    29  15   22             11045.089844   \n                            19   33                 0.000000   \n                        30  0    4              16999.582031   \n                            12   0               9999.754883   \n                            16   6              12999.680664   \n\n                                         distance_from_port  speed  \\\nmmsi         year month day hour minute                              \n1.252340e+12 2015 1     1   5    8                 0.000000    0.0   \n                                 20                0.000000    0.0   \n                                 32                0.000000    0.0   \n                                 45                0.000000    0.0   \n                                 57                0.000000    0.0   \n...                                                     ...    ...   \n2.775153e+14 2015 12    29  15   22            17463.820312    3.4   \n                            19   33            11401.474609    0.0   \n                        30  0    4             29832.136719    3.2   \n                            12   0             21259.769531    3.1   \n                            16   6             24082.597656    3.1   \n\n                                             course        lat       lon  \\\nmmsi         year month day hour minute                                    \n1.252340e+12 2015 1     1   5    8       128.000000  52.458717  4.581316   \n                                 20      128.000000  52.458733  4.581316   \n                                 32      128.000000  52.458698  4.581267   \n                                 45      128.000000  52.458698  4.581234   \n                                 57      128.000000  52.458683  4.581183   \n...                                             ...        ...       ...   \n2.775153e+14 2015 12    29  15   22      291.000000  43.636147 -7.092262   \n                            19   33      275.600006  43.656952 -7.351518   \n                        30  0    4        89.800003  43.677372 -6.855945   \n                            12   0        66.699997  43.635574 -6.906517   \n                            16   6       286.799988  43.654911 -7.171102   \n\n                                         is_fishing  \nmmsi         year month day hour minute              \n1.252340e+12 2015 1     1   5    8              0.0  \n                                 20             0.0  \n                                 32             0.0  \n                                 45             0.0  \n                                 57             0.0  \n...                                             ...  \n2.775153e+14 2015 12    29  15   22             1.0  \n                            19   33             1.0  \n                        30  0    4              0.0  \n                            12   0              0.0  \n                            16   6              1.0  \n\n[156875 rows x 7 columns]",
      "text/html": "<div>\n<style scoped>\n    .dataframe tbody tr th:only-of-type {\n        vertical-align: middle;\n    }\n\n    .dataframe tbody tr th {\n        vertical-align: top;\n    }\n\n    .dataframe thead th {\n        text-align: right;\n    }\n</style>\n<table border=\"1\" class=\"dataframe\">\n  <thead>\n    <tr style=\"text-align: right;\">\n      <th></th>\n      <th></th>\n      <th></th>\n      <th></th>\n      <th></th>\n      <th></th>\n      <th>distance_from_shore</th>\n      <th>distance_from_port</th>\n      <th>speed</th>\n      <th>course</th>\n      <th>lat</th>\n      <th>lon</th>\n      <th>is_fishing</th>\n    </tr>\n    <tr>\n      <th>mmsi</th>\n      <th>year</th>\n      <th>month</th>\n      <th>day</th>\n      <th>hour</th>\n      <th>minute</th>\n      <th></th>\n      <th></th>\n      <th></th>\n      <th></th>\n      <th></th>\n      <th></th>\n      <th></th>\n    </tr>\n  </thead>\n  <tbody>\n    <tr>\n      <th rowspan=\"5\" valign=\"top\">1.252340e+12</th>\n      <th rowspan=\"5\" valign=\"top\">2015</th>\n      <th rowspan=\"5\" valign=\"top\">1</th>\n      <th rowspan=\"5\" valign=\"top\">1</th>\n      <th rowspan=\"5\" valign=\"top\">5</th>\n      <th>8</th>\n      <td>0.000000</td>\n      <td>0.000000</td>\n      <td>0.0</td>\n      <td>128.000000</td>\n      <td>52.458717</td>\n      <td>4.581316</td>\n      <td>0.0</td>\n    </tr>\n    <tr>\n      <th>20</th>\n      <td>0.000000</td>\n      <td>0.000000</td>\n      <td>0.0</td>\n      <td>128.000000</td>\n      <td>52.458733</td>\n      <td>4.581316</td>\n      <td>0.0</td>\n    </tr>\n    <tr>\n      <th>32</th>\n      <td>0.000000</td>\n      <td>0.000000</td>\n      <td>0.0</td>\n      <td>128.000000</td>\n      <td>52.458698</td>\n      <td>4.581267</td>\n      <td>0.0</td>\n    </tr>\n    <tr>\n      <th>45</th>\n      <td>0.000000</td>\n      <td>0.000000</td>\n      <td>0.0</td>\n      <td>128.000000</td>\n      <td>52.458698</td>\n      <td>4.581234</td>\n      <td>0.0</td>\n    </tr>\n    <tr>\n      <th>57</th>\n      <td>0.000000</td>\n      <td>0.000000</td>\n      <td>0.0</td>\n      <td>128.000000</td>\n      <td>52.458683</td>\n      <td>4.581183</td>\n      <td>0.0</td>\n    </tr>\n    <tr>\n      <th>...</th>\n      <th>...</th>\n      <th>...</th>\n      <th>...</th>\n      <th>...</th>\n      <th>...</th>\n      <td>...</td>\n      <td>...</td>\n      <td>...</td>\n      <td>...</td>\n      <td>...</td>\n      <td>...</td>\n      <td>...</td>\n    </tr>\n    <tr>\n      <th rowspan=\"5\" valign=\"top\">2.775153e+14</th>\n      <th rowspan=\"5\" valign=\"top\">2015</th>\n      <th rowspan=\"5\" valign=\"top\">12</th>\n      <th rowspan=\"2\" valign=\"top\">29</th>\n      <th>15</th>\n      <th>22</th>\n      <td>11045.089844</td>\n      <td>17463.820312</td>\n      <td>3.4</td>\n      <td>291.000000</td>\n      <td>43.636147</td>\n      <td>-7.092262</td>\n      <td>1.0</td>\n    </tr>\n    <tr>\n      <th>19</th>\n      <th>33</th>\n      <td>0.000000</td>\n      <td>11401.474609</td>\n      <td>0.0</td>\n      <td>275.600006</td>\n      <td>43.656952</td>\n      <td>-7.351518</td>\n      <td>1.0</td>\n    </tr>\n    <tr>\n      <th rowspan=\"3\" valign=\"top\">30</th>\n      <th>0</th>\n      <th>4</th>\n      <td>16999.582031</td>\n      <td>29832.136719</td>\n      <td>3.2</td>\n      <td>89.800003</td>\n      <td>43.677372</td>\n      <td>-6.855945</td>\n      <td>0.0</td>\n    </tr>\n    <tr>\n      <th>12</th>\n      <th>0</th>\n      <td>9999.754883</td>\n      <td>21259.769531</td>\n      <td>3.1</td>\n      <td>66.699997</td>\n      <td>43.635574</td>\n      <td>-6.906517</td>\n      <td>0.0</td>\n    </tr>\n    <tr>\n      <th>16</th>\n      <th>6</th>\n      <td>12999.680664</td>\n      <td>24082.597656</td>\n      <td>3.1</td>\n      <td>286.799988</td>\n      <td>43.654911</td>\n      <td>-7.171102</td>\n      <td>1.0</td>\n    </tr>\n  </tbody>\n</table>\n<p>156875 rows × 7 columns</p>\n</div>"
     },
     "metadata": {},
     "execution_count": 14
    }
   ],
   "source": [
    "trawler_df.groupby(['mmsi', 'year', 'month', 'day', 'hour', 'minute']).mean()"
   ]
  },
  {
   "cell_type": "code",
   "execution_count": 15,
   "metadata": {},
   "outputs": [
    {
     "output_type": "execute_result",
     "data": {
      "text/plain": "2015    127461\n2014     23155\n2013     16980\n2012      7229\n2016       104\nName: year, dtype: int64"
     },
     "metadata": {},
     "execution_count": 15
    }
   ],
   "source": [
    "trawler_df.year.value_counts()"
   ]
  },
  {
   "cell_type": "code",
   "execution_count": 16,
   "metadata": {},
   "outputs": [],
   "source": [
    "trawler_mmsi = set(trawler_df.mmsi.values)"
   ]
  },
  {
   "cell_type": "code",
   "execution_count": 17,
   "metadata": {},
   "outputs": [
    {
     "output_type": "stream",
     "name": "stdout",
     "text": "<class 'pandas.core.frame.DataFrame'>\nRangeIndex: 4369101 entries, 0 to 4369100\nData columns (total 10 columns):\n #   Column               Dtype         \n---  ------               -----         \n 0   mmsi                 float64       \n 1   timestamp            datetime64[ns]\n 2   distance_from_shore  float64       \n 3   distance_from_port   float64       \n 4   speed                float64       \n 5   course               float64       \n 6   lat                  float64       \n 7   lon                  float64       \n 8   is_fishing           float64       \n 9   source               object        \ndtypes: datetime64[ns](1), float64(8), object(1)\nmemory usage: 333.3+ MB\n"
    }
   ],
   "source": [
    "trawler_raw_df.info()"
   ]
  },
  {
   "cell_type": "code",
   "execution_count": 18,
   "metadata": {},
   "outputs": [
    {
     "output_type": "execute_result",
     "data": {
      "text/plain": "True"
     },
     "metadata": {},
     "execution_count": 18
    }
   ],
   "source": [
    "trawler_mmsi.isdisjoint(set(boats_raw_df.mmsi.values))"
   ]
  },
  {
   "cell_type": "code",
   "execution_count": 19,
   "metadata": {},
   "outputs": [],
   "source": [
    "trawler_df['is_new_mmsi'] = (trawler_df.mmsi.shift(1) != trawler_df.mmsi.shift(0))"
   ]
  },
  {
   "cell_type": "code",
   "execution_count": 20,
   "metadata": {},
   "outputs": [],
   "source": [
    "prev_list = ['speed', 'lat', 'lon']\n",
    "\n",
    "for col in prev_list:\n",
    "    trawler_df['prev_' + col] = trawler_df[col].shift(1)\n",
    "    trawler_df['prev_' + col][trawler_df.is_new_mmsi] = np.nan"
   ]
  },
  {
   "cell_type": "code",
   "execution_count": 21,
   "metadata": {},
   "outputs": [
    {
     "output_type": "execute_result",
     "data": {
      "text/plain": "              lat   prev_lat\n231509  53.866112        NaN\n231510  53.857353  53.866112\n231511  53.851585  53.857353\n231514  53.840481  53.851585\n231515  53.837486  53.840481\n...           ...        ...\n235625  53.522789  53.522785\n235626  53.522827  53.522789\n235627  53.522808  53.522827\n235628  53.522808  53.522808\n235629  53.522800  53.522808\n\n[2486 rows x 2 columns]",
      "text/html": "<div>\n<style scoped>\n    .dataframe tbody tr th:only-of-type {\n        vertical-align: middle;\n    }\n\n    .dataframe tbody tr th {\n        vertical-align: top;\n    }\n\n    .dataframe thead th {\n        text-align: right;\n    }\n</style>\n<table border=\"1\" class=\"dataframe\">\n  <thead>\n    <tr style=\"text-align: right;\">\n      <th></th>\n      <th>lat</th>\n      <th>prev_lat</th>\n    </tr>\n  </thead>\n  <tbody>\n    <tr>\n      <th>231509</th>\n      <td>53.866112</td>\n      <td>NaN</td>\n    </tr>\n    <tr>\n      <th>231510</th>\n      <td>53.857353</td>\n      <td>53.866112</td>\n    </tr>\n    <tr>\n      <th>231511</th>\n      <td>53.851585</td>\n      <td>53.857353</td>\n    </tr>\n    <tr>\n      <th>231514</th>\n      <td>53.840481</td>\n      <td>53.851585</td>\n    </tr>\n    <tr>\n      <th>231515</th>\n      <td>53.837486</td>\n      <td>53.840481</td>\n    </tr>\n    <tr>\n      <th>...</th>\n      <td>...</td>\n      <td>...</td>\n    </tr>\n    <tr>\n      <th>235625</th>\n      <td>53.522789</td>\n      <td>53.522785</td>\n    </tr>\n    <tr>\n      <th>235626</th>\n      <td>53.522827</td>\n      <td>53.522789</td>\n    </tr>\n    <tr>\n      <th>235627</th>\n      <td>53.522808</td>\n      <td>53.522827</td>\n    </tr>\n    <tr>\n      <th>235628</th>\n      <td>53.522808</td>\n      <td>53.522808</td>\n    </tr>\n    <tr>\n      <th>235629</th>\n      <td>53.522800</td>\n      <td>53.522808</td>\n    </tr>\n  </tbody>\n</table>\n<p>2486 rows × 2 columns</p>\n</div>"
     },
     "metadata": {},
     "execution_count": 21
    }
   ],
   "source": [
    "trawler_df[trawler_df.mmsi == list(trawler_mmsi)[-1]][['lat', 'prev_lat']]"
   ]
  },
  {
   "cell_type": "code",
   "execution_count": 22,
   "metadata": {},
   "outputs": [],
   "source": [
    "def getdist(df):\n",
    "    if np.isnan(df.prev_lat):\n",
    "        return np.nan\n",
    "    else:\n",
    "        return geopy.distance.distance((df.lat, df.lon), (df.prev_lat, df.prev_lon)).km"
   ]
  },
  {
   "cell_type": "code",
   "execution_count": 23,
   "metadata": {},
   "outputs": [],
   "source": [
    "trawler_df['dist_moved'] = trawler_df.apply(getdist, axis=1)"
   ]
  },
  {
   "cell_type": "code",
   "execution_count": 166,
   "metadata": {},
   "outputs": [
    {
     "output_type": "execute_result",
     "data": {
      "text/plain": "60646            NaN\n60647       0.001698\n60648       0.005095\n60649       0.002269\n60650       0.003803\n             ...    \n4324371     5.202731\n4324372     4.401632\n4324373     6.428128\n4324374     5.391887\n4324375    21.120160\nName: dist_moved, Length: 174929, dtype: float64"
     },
     "metadata": {},
     "execution_count": 166
    }
   ],
   "source": []
  },
  {
   "cell_type": "code",
   "execution_count": 24,
   "metadata": {},
   "outputs": [
    {
     "output_type": "error",
     "ename": "NameError",
     "evalue": "name 'n' is not defined",
     "traceback": [
      "\u001b[1;31m---------------------------------------------------------------------------\u001b[0m",
      "\u001b[1;31mNameError\u001b[0m                                 Traceback (most recent call last)",
      "\u001b[1;32m<ipython-input-24-c7f6ed75c33b>\u001b[0m in \u001b[0;36m<module>\u001b[1;34m\u001b[0m\n\u001b[1;32m----> 1\u001b[1;33m \u001b[0mtrawler_df\u001b[0m\u001b[1;33m[\u001b[0m\u001b[1;34m'time_taken'\u001b[0m\u001b[1;33m]\u001b[0m \u001b[1;33m=\u001b[0m \u001b[0mn\u001b[0m\u001b[1;33m.\u001b[0m \u001b[0mtrawler_df\u001b[0m\u001b[1;33m.\u001b[0m\u001b[0mtimestamp\u001b[0m\u001b[1;33m.\u001b[0m\u001b[0mdiff\u001b[0m\u001b[1;33m(\u001b[0m\u001b[1;36m1\u001b[0m\u001b[1;33m)\u001b[0m\u001b[1;33m\u001b[0m\u001b[1;33m\u001b[0m\u001b[0m\n\u001b[0m\u001b[0;32m      2\u001b[0m \u001b[0mtrawler_df\u001b[0m\u001b[1;33m[\u001b[0m\u001b[1;34m'time_taken'\u001b[0m\u001b[1;33m]\u001b[0m\u001b[1;33m[\u001b[0m\u001b[0mtrawler_df\u001b[0m\u001b[1;33m.\u001b[0m\u001b[0mis_new_mmsi\u001b[0m\u001b[1;33m]\u001b[0m \u001b[1;33m=\u001b[0m \u001b[0mnp\u001b[0m\u001b[1;33m.\u001b[0m\u001b[0mnan\u001b[0m\u001b[1;33m\u001b[0m\u001b[1;33m\u001b[0m\u001b[0m\n",
      "\u001b[1;31mNameError\u001b[0m: name 'n' is not defined"
     ]
    }
   ],
   "source": [
    "trawler_df['time_taken'] = n. trawler_df.timestamp.diff(1)\n",
    "trawler_df['time_taken'][trawler_df.is_new_mmsi] = np.nan"
   ]
  },
  {
   "cell_type": "code",
   "execution_count": 25,
   "metadata": {},
   "outputs": [
    {
     "output_type": "error",
     "ename": "KeyError",
     "evalue": "\"['time_taken'] not in index\"",
     "traceback": [
      "\u001b[1;31m---------------------------------------------------------------------------\u001b[0m",
      "\u001b[1;31mKeyError\u001b[0m                                  Traceback (most recent call last)",
      "\u001b[1;32m<ipython-input-25-6b17cbffa60f>\u001b[0m in \u001b[0;36m<module>\u001b[1;34m\u001b[0m\n\u001b[1;32m----> 1\u001b[1;33m \u001b[0mtrawler_df\u001b[0m\u001b[1;33m[\u001b[0m\u001b[0mtrawler_df\u001b[0m\u001b[1;33m.\u001b[0m\u001b[0mmmsi\u001b[0m \u001b[1;33m==\u001b[0m \u001b[0mlist\u001b[0m\u001b[1;33m(\u001b[0m\u001b[0mtrawler_mmsi\u001b[0m\u001b[1;33m)\u001b[0m\u001b[1;33m[\u001b[0m\u001b[1;33m-\u001b[0m\u001b[1;36m1\u001b[0m\u001b[1;33m]\u001b[0m\u001b[1;33m]\u001b[0m\u001b[1;33m[\u001b[0m\u001b[1;33m[\u001b[0m\u001b[1;34m'timestamp'\u001b[0m\u001b[1;33m,\u001b[0m \u001b[1;34m'time_taken'\u001b[0m\u001b[1;33m]\u001b[0m\u001b[1;33m]\u001b[0m\u001b[1;33m\u001b[0m\u001b[1;33m\u001b[0m\u001b[0m\n\u001b[0m",
      "\u001b[1;32m~\\anaconda3\\lib\\site-packages\\pandas\\core\\frame.py\u001b[0m in \u001b[0;36m__getitem__\u001b[1;34m(self, key)\u001b[0m\n\u001b[0;32m   2804\u001b[0m             \u001b[1;32mif\u001b[0m \u001b[0mis_iterator\u001b[0m\u001b[1;33m(\u001b[0m\u001b[0mkey\u001b[0m\u001b[1;33m)\u001b[0m\u001b[1;33m:\u001b[0m\u001b[1;33m\u001b[0m\u001b[1;33m\u001b[0m\u001b[0m\n\u001b[0;32m   2805\u001b[0m                 \u001b[0mkey\u001b[0m \u001b[1;33m=\u001b[0m \u001b[0mlist\u001b[0m\u001b[1;33m(\u001b[0m\u001b[0mkey\u001b[0m\u001b[1;33m)\u001b[0m\u001b[1;33m\u001b[0m\u001b[1;33m\u001b[0m\u001b[0m\n\u001b[1;32m-> 2806\u001b[1;33m             \u001b[0mindexer\u001b[0m \u001b[1;33m=\u001b[0m \u001b[0mself\u001b[0m\u001b[1;33m.\u001b[0m\u001b[0mloc\u001b[0m\u001b[1;33m.\u001b[0m\u001b[0m_get_listlike_indexer\u001b[0m\u001b[1;33m(\u001b[0m\u001b[0mkey\u001b[0m\u001b[1;33m,\u001b[0m \u001b[0maxis\u001b[0m\u001b[1;33m=\u001b[0m\u001b[1;36m1\u001b[0m\u001b[1;33m,\u001b[0m \u001b[0mraise_missing\u001b[0m\u001b[1;33m=\u001b[0m\u001b[1;32mTrue\u001b[0m\u001b[1;33m)\u001b[0m\u001b[1;33m[\u001b[0m\u001b[1;36m1\u001b[0m\u001b[1;33m]\u001b[0m\u001b[1;33m\u001b[0m\u001b[1;33m\u001b[0m\u001b[0m\n\u001b[0m\u001b[0;32m   2807\u001b[0m \u001b[1;33m\u001b[0m\u001b[0m\n\u001b[0;32m   2808\u001b[0m         \u001b[1;31m# take() does not accept boolean indexers\u001b[0m\u001b[1;33m\u001b[0m\u001b[1;33m\u001b[0m\u001b[1;33m\u001b[0m\u001b[0m\n",
      "\u001b[1;32m~\\anaconda3\\lib\\site-packages\\pandas\\core\\indexing.py\u001b[0m in \u001b[0;36m_get_listlike_indexer\u001b[1;34m(self, key, axis, raise_missing)\u001b[0m\n\u001b[0;32m   1551\u001b[0m \u001b[1;33m\u001b[0m\u001b[0m\n\u001b[0;32m   1552\u001b[0m         self._validate_read_indexer(\n\u001b[1;32m-> 1553\u001b[1;33m             \u001b[0mkeyarr\u001b[0m\u001b[1;33m,\u001b[0m \u001b[0mindexer\u001b[0m\u001b[1;33m,\u001b[0m \u001b[0mo\u001b[0m\u001b[1;33m.\u001b[0m\u001b[0m_get_axis_number\u001b[0m\u001b[1;33m(\u001b[0m\u001b[0maxis\u001b[0m\u001b[1;33m)\u001b[0m\u001b[1;33m,\u001b[0m \u001b[0mraise_missing\u001b[0m\u001b[1;33m=\u001b[0m\u001b[0mraise_missing\u001b[0m\u001b[1;33m\u001b[0m\u001b[1;33m\u001b[0m\u001b[0m\n\u001b[0m\u001b[0;32m   1554\u001b[0m         )\n\u001b[0;32m   1555\u001b[0m         \u001b[1;32mreturn\u001b[0m \u001b[0mkeyarr\u001b[0m\u001b[1;33m,\u001b[0m \u001b[0mindexer\u001b[0m\u001b[1;33m\u001b[0m\u001b[1;33m\u001b[0m\u001b[0m\n",
      "\u001b[1;32m~\\anaconda3\\lib\\site-packages\\pandas\\core\\indexing.py\u001b[0m in \u001b[0;36m_validate_read_indexer\u001b[1;34m(self, key, indexer, axis, raise_missing)\u001b[0m\n\u001b[0;32m   1644\u001b[0m             \u001b[1;32mif\u001b[0m \u001b[1;32mnot\u001b[0m \u001b[1;33m(\u001b[0m\u001b[0mself\u001b[0m\u001b[1;33m.\u001b[0m\u001b[0mname\u001b[0m \u001b[1;33m==\u001b[0m \u001b[1;34m\"loc\"\u001b[0m \u001b[1;32mand\u001b[0m \u001b[1;32mnot\u001b[0m \u001b[0mraise_missing\u001b[0m\u001b[1;33m)\u001b[0m\u001b[1;33m:\u001b[0m\u001b[1;33m\u001b[0m\u001b[1;33m\u001b[0m\u001b[0m\n\u001b[0;32m   1645\u001b[0m                 \u001b[0mnot_found\u001b[0m \u001b[1;33m=\u001b[0m \u001b[0mlist\u001b[0m\u001b[1;33m(\u001b[0m\u001b[0mset\u001b[0m\u001b[1;33m(\u001b[0m\u001b[0mkey\u001b[0m\u001b[1;33m)\u001b[0m \u001b[1;33m-\u001b[0m \u001b[0mset\u001b[0m\u001b[1;33m(\u001b[0m\u001b[0max\u001b[0m\u001b[1;33m)\u001b[0m\u001b[1;33m)\u001b[0m\u001b[1;33m\u001b[0m\u001b[1;33m\u001b[0m\u001b[0m\n\u001b[1;32m-> 1646\u001b[1;33m                 \u001b[1;32mraise\u001b[0m \u001b[0mKeyError\u001b[0m\u001b[1;33m(\u001b[0m\u001b[1;34mf\"{not_found} not in index\"\u001b[0m\u001b[1;33m)\u001b[0m\u001b[1;33m\u001b[0m\u001b[1;33m\u001b[0m\u001b[0m\n\u001b[0m\u001b[0;32m   1647\u001b[0m \u001b[1;33m\u001b[0m\u001b[0m\n\u001b[0;32m   1648\u001b[0m             \u001b[1;31m# we skip the warning on Categorical/Interval\u001b[0m\u001b[1;33m\u001b[0m\u001b[1;33m\u001b[0m\u001b[1;33m\u001b[0m\u001b[0m\n",
      "\u001b[1;31mKeyError\u001b[0m: \"['time_taken'] not in index\""
     ]
    }
   ],
   "source": [
    "trawler_df[trawler_df.mmsi == list(trawler_mmsi)[-1]][['timestamp', 'time_taken']]"
   ]
  },
  {
   "cell_type": "code",
   "execution_count": 26,
   "metadata": {},
   "outputs": [
    {
     "output_type": "execute_result",
     "data": {
      "text/plain": "Index(['mmsi', 'timestamp', 'distance_from_shore', 'distance_from_port',\n       'speed', 'course', 'lat', 'lon', 'is_fishing', 'source', 'year',\n       'month', 'day', 'hour', 'minute', 'is_new_mmsi', 'prev_speed',\n       'prev_lat', 'prev_lon', 'dist_moved'],\n      dtype='object')"
     },
     "metadata": {},
     "execution_count": 26
    }
   ],
   "source": [
    "trawler_df.columns"
   ]
  },
  {
   "cell_type": "code",
   "execution_count": 27,
   "metadata": {},
   "outputs": [],
   "source": [
    "np.random.seed(42)\n",
    "df_mask = np.random.rand(len(trawler_df)) < 0.8\n",
    "\n",
    "trawler_train_df = trawler_df[df_mask].dropna()\n",
    "trawler_test_df = trawler_df[~df_mask].dropna()"
   ]
  },
  {
   "cell_type": "code",
   "execution_count": 28,
   "metadata": {},
   "outputs": [
    {
     "output_type": "stream",
     "name": "stdout",
     "text": "<class 'pandas.core.frame.DataFrame'>\nInt64Index: 139843 entries, 60648 to 4324375\nData columns (total 13 columns):\n #   Column               Non-Null Count   Dtype  \n---  ------               --------------   -----  \n 0   distance_from_shore  139843 non-null  float64\n 1   distance_from_port   139843 non-null  float64\n 2   speed                139843 non-null  float64\n 3   course               139843 non-null  float64\n 4   lat                  139843 non-null  float64\n 5   lon                  139843 non-null  float64\n 6   year                 139843 non-null  int64  \n 7   month                139843 non-null  int64  \n 8   day                  139843 non-null  int64  \n 9   hour                 139843 non-null  int64  \n 10  minute               139843 non-null  int64  \n 11  prev_speed           139843 non-null  float64\n 12  dist_moved           139843 non-null  float64\ndtypes: float64(8), int64(5)\nmemory usage: 14.9 MB\n"
    }
   ],
   "source": [
    "feature_cols = ['distance_from_shore', 'distance_from_port',\n",
    "       'speed', 'course', 'lat', 'lon', 'year',\n",
    "       'month', 'day', 'hour', 'minute', 'prev_speed',\n",
    "       'dist_moved']\n",
    "\n",
    "train_X = trawler_train_df[feature_cols]\n",
    "train_y = trawler_train_df['is_fishing']\n",
    "\n",
    "test_X = trawler_test_df[feature_cols]\n",
    "test_y = trawler_test_df['is_fishing']\n",
    "\n",
    "train_X.info()"
   ]
  },
  {
   "cell_type": "code",
   "execution_count": 29,
   "metadata": {},
   "outputs": [
    {
     "output_type": "execute_result",
     "data": {
      "text/plain": "{'n_neighbors': 1}"
     },
     "metadata": {},
     "execution_count": 29
    }
   ],
   "source": [
    "model_knn = KNeighborsClassifier()\n",
    "\n",
    "#create a dictionary of all values we want to test for n_neighbors\n",
    "param_grid = {'n_neighbors': np.arange(1, 25)}\n",
    "\n",
    "#use gridsearch to test all values for n_neighbors\n",
    "model_knn_gscv = GridSearchCV(model_knn, param_grid, cv=KFold(n_splits=5, shuffle=True, random_state=RANDOM))\n",
    "\n",
    "#fit model to data\n",
    "model_knn_gscv.fit(train_X, train_y)\n",
    "model_knn_gscv.best_params_"
   ]
  },
  {
   "cell_type": "code",
   "execution_count": 30,
   "metadata": {},
   "outputs": [
    {
     "output_type": "execute_result",
     "data": {
      "text/plain": "0.8960191235752758"
     },
     "metadata": {},
     "execution_count": 30
    }
   ],
   "source": [
    "model_knn_gscv.best_score_"
   ]
  },
  {
   "cell_type": "code",
   "execution_count": 31,
   "metadata": {},
   "outputs": [],
   "source": [
    "knn_y =  model_knn_gscv.predict(train_X)"
   ]
  },
  {
   "cell_type": "code",
   "execution_count": 32,
   "metadata": {},
   "outputs": [
    {
     "output_type": "error",
     "ename": "NameError",
     "evalue": "name 'make_confusion_matrix' is not defined",
     "traceback": [
      "\u001b[1;31m---------------------------------------------------------------------------\u001b[0m",
      "\u001b[1;31mNameError\u001b[0m                                 Traceback (most recent call last)",
      "\u001b[1;32m<ipython-input-32-f047482b58a6>\u001b[0m in \u001b[0;36m<module>\u001b[1;34m\u001b[0m\n\u001b[1;32m----> 1\u001b[1;33m \u001b[0mmake_confusion_matrix\u001b[0m\u001b[1;33m(\u001b[0m\u001b[0mmodel_knn_gscv\u001b[0m\u001b[1;33m,\u001b[0m \u001b[0mtrain_X\u001b[0m\u001b[1;33m,\u001b[0m \u001b[0mtrain_y\u001b[0m\u001b[1;33m,\u001b[0m \u001b[0mthreshold\u001b[0m\u001b[1;33m=\u001b[0m\u001b[1;36m0.5\u001b[0m\u001b[1;33m)\u001b[0m\u001b[1;33m\u001b[0m\u001b[1;33m\u001b[0m\u001b[0m\n\u001b[0m",
      "\u001b[1;31mNameError\u001b[0m: name 'make_confusion_matrix' is not defined"
     ]
    }
   ],
   "source": [
    "make_confusion_matrix(model_knn_gscv, train_X, train_y, threshold=0.5)"
   ]
  },
  {
   "cell_type": "markdown",
   "metadata": {},
   "source": [
    "Perfect fit!?"
   ]
  },
  {
   "cell_type": "code",
   "execution_count": 33,
   "metadata": {},
   "outputs": [
    {
     "output_type": "display_data",
     "data": {
      "text/plain": "interactive(children=(FloatSlider(value=0.5, description='threshold', max=1.0, step=0.01), Output()), _dom_cla…",
      "application/vnd.jupyter.widget-view+json": {
       "version_major": 2,
       "version_minor": 0,
       "model_id": "aad1e88853574a768cb1f743c504c223"
      }
     },
     "metadata": {}
    }
   ],
   "source": [
    "interactive(lambda threshold: make_confusion_matrix(model_knn_gscv, train_X, train_y, threshold=threshold, show_metrics=True), threshold=(0.0,1.0,0.01))"
   ]
  },
  {
   "cell_type": "code",
   "execution_count": 34,
   "metadata": {},
   "outputs": [
    {
     "output_type": "execute_result",
     "data": {
      "text/plain": "LogisticRegressionCV(Cs=10, class_weight=None,\n                     cv=KFold(n_splits=5, random_state=42, shuffle=True),\n                     dual=False, fit_intercept=True, intercept_scaling=1.0,\n                     l1_ratios=None, max_iter=100, multi_class='auto',\n                     n_jobs=None, penalty='l2', random_state=None, refit=True,\n                     scoring=None, solver='lbfgs', tol=0.0001, verbose=0)"
     },
     "metadata": {},
     "execution_count": 34
    }
   ],
   "source": [
    "model_logreg_cv = LogisticRegressionCV(cv=KFold(n_splits=5, shuffle=True, random_state=RANDOM))\n",
    "model_logreg_cv.fit(train_X, train_y)"
   ]
  },
  {
   "cell_type": "code",
   "execution_count": 35,
   "metadata": {},
   "outputs": [
    {
     "output_type": "display_data",
     "data": {
      "text/plain": "interactive(children=(FloatSlider(value=0.5, description='threshold', max=1.0, step=0.01), Output()), _dom_cla…",
      "application/vnd.jupyter.widget-view+json": {
       "version_major": 2,
       "version_minor": 0,
       "model_id": "a616a415ccfa4fcda702d158dd2e9336"
      }
     },
     "metadata": {}
    }
   ],
   "source": [
    "interactive(lambda threshold: make_confusion_matrix(model_logreg_cv, test_X, test_y, threshold=threshold, show_metrics=True), threshold=(0.0,1.0,0.01))"
   ]
  },
  {
   "cell_type": "code",
   "execution_count": 36,
   "metadata": {},
   "outputs": [
    {
     "output_type": "execute_result",
     "data": {
      "text/plain": "0.7279276394781077"
     },
     "metadata": {},
     "execution_count": 36
    }
   ],
   "source": [
    "threshold = 0.28\n",
    "\n",
    "logreg_y = (model_logreg_cv.predict_proba(train_X)[:, 1] >= threshold)\n",
    "\n",
    "f1_score(train_y, logreg_y)"
   ]
  },
  {
   "cell_type": "code",
   "execution_count": 37,
   "metadata": {},
   "outputs": [
    {
     "output_type": "error",
     "ename": "NameError",
     "evalue": "name 'make_confusion_matrix' is not defined",
     "traceback": [
      "\u001b[1;31m---------------------------------------------------------------------------\u001b[0m",
      "\u001b[1;31mNameError\u001b[0m                                 Traceback (most recent call last)",
      "\u001b[1;32m<ipython-input-37-4411df57c36f>\u001b[0m in \u001b[0;36m<module>\u001b[1;34m\u001b[0m\n\u001b[1;32m----> 1\u001b[1;33m \u001b[0mmake_confusion_matrix\u001b[0m\u001b[1;33m(\u001b[0m\u001b[0mmodel_knn_gscv\u001b[0m\u001b[1;33m,\u001b[0m \u001b[0mtest_X\u001b[0m\u001b[1;33m,\u001b[0m \u001b[0mtest_y\u001b[0m\u001b[1;33m,\u001b[0m \u001b[0mthreshold\u001b[0m\u001b[1;33m=\u001b[0m\u001b[1;36m0.5\u001b[0m\u001b[1;33m,\u001b[0m \u001b[0mshow_metrics\u001b[0m\u001b[1;33m=\u001b[0m\u001b[1;32mTrue\u001b[0m\u001b[1;33m)\u001b[0m\u001b[1;33m\u001b[0m\u001b[1;33m\u001b[0m\u001b[0m\n\u001b[0m",
      "\u001b[1;31mNameError\u001b[0m: name 'make_confusion_matrix' is not defined"
     ]
    }
   ],
   "source": [
    "make_confusion_matrix(model_knn_gscv, test_X, test_y, threshold=0.5, show_metrics=True)"
   ]
  },
  {
   "cell_type": "code",
   "execution_count": 38,
   "metadata": {},
   "outputs": [
    {
     "output_type": "error",
     "ename": "NameError",
     "evalue": "name 'make_confusion_matrix' is not defined",
     "traceback": [
      "\u001b[1;31m---------------------------------------------------------------------------\u001b[0m",
      "\u001b[1;31mNameError\u001b[0m                                 Traceback (most recent call last)",
      "\u001b[1;32m<ipython-input-38-6b39e69256cc>\u001b[0m in \u001b[0;36m<module>\u001b[1;34m\u001b[0m\n\u001b[1;32m----> 1\u001b[1;33m \u001b[0mmake_confusion_matrix\u001b[0m\u001b[1;33m(\u001b[0m\u001b[0mmodel_logreg_cv\u001b[0m\u001b[1;33m,\u001b[0m \u001b[0mtest_X\u001b[0m\u001b[1;33m,\u001b[0m \u001b[0mtest_y\u001b[0m\u001b[1;33m,\u001b[0m \u001b[0mthreshold\u001b[0m\u001b[1;33m=\u001b[0m\u001b[1;36m0.28\u001b[0m\u001b[1;33m,\u001b[0m \u001b[0mshow_metrics\u001b[0m\u001b[1;33m=\u001b[0m\u001b[1;32mTrue\u001b[0m\u001b[1;33m)\u001b[0m\u001b[1;33m\u001b[0m\u001b[1;33m\u001b[0m\u001b[0m\n\u001b[0m",
      "\u001b[1;31mNameError\u001b[0m: name 'make_confusion_matrix' is not defined"
     ]
    }
   ],
   "source": [
    "make_confusion_matrix(model_logreg_cv, test_X, test_y, threshold=0.28, show_metrics=True)"
   ]
  },
  {
   "cell_type": "markdown",
   "metadata": {},
   "source": [
    "KNN likely overfitted. Let's try with neighbours > 1"
   ]
  },
  {
   "cell_type": "code",
   "execution_count": 39,
   "metadata": {},
   "outputs": [
    {
     "output_type": "execute_result",
     "data": {
      "text/plain": "{'n_neighbors': 3}"
     },
     "metadata": {},
     "execution_count": 39
    }
   ],
   "source": [
    "model_knn2 = KNeighborsClassifier()\n",
    "\n",
    "#create a dictionary of all values we want to test for n_neighbors\n",
    "param_grid = {'n_neighbors': np.arange(2, 25)}\n",
    "\n",
    "#use gridsearch to test all values for n_neighbors\n",
    "model_knn2_gscv = GridSearchCV(model_knn2, param_grid, cv=KFold(n_splits=5, shuffle=True, random_state=RANDOM))\n",
    "\n",
    "#fit model to data\n",
    "model_knn2_gscv.fit(train_X, train_y)\n",
    "model_knn2_gscv.best_params_"
   ]
  },
  {
   "cell_type": "code",
   "execution_count": 40,
   "metadata": {},
   "outputs": [],
   "source": [
    "knn2_y = model_knn2_gscv.predict(train_X)"
   ]
  },
  {
   "cell_type": "code",
   "execution_count": 41,
   "metadata": {},
   "outputs": [
    {
     "output_type": "error",
     "ename": "NameError",
     "evalue": "name 'make_confusion_matrix' is not defined",
     "traceback": [
      "\u001b[1;31m---------------------------------------------------------------------------\u001b[0m",
      "\u001b[1;31mNameError\u001b[0m                                 Traceback (most recent call last)",
      "\u001b[1;32m<ipython-input-41-4d1b2b1f00e2>\u001b[0m in \u001b[0;36m<module>\u001b[1;34m\u001b[0m\n\u001b[1;32m----> 1\u001b[1;33m \u001b[0mmake_confusion_matrix\u001b[0m\u001b[1;33m(\u001b[0m\u001b[0mmodel_knn2_gscv\u001b[0m\u001b[1;33m,\u001b[0m \u001b[0mtrain_X\u001b[0m\u001b[1;33m,\u001b[0m \u001b[0mtrain_y\u001b[0m\u001b[1;33m,\u001b[0m \u001b[0mthreshold\u001b[0m\u001b[1;33m=\u001b[0m\u001b[1;36m0.50\u001b[0m\u001b[1;33m,\u001b[0m \u001b[0mshow_metrics\u001b[0m\u001b[1;33m=\u001b[0m\u001b[1;32mTrue\u001b[0m\u001b[1;33m)\u001b[0m\u001b[1;33m\u001b[0m\u001b[1;33m\u001b[0m\u001b[0m\n\u001b[0m",
      "\u001b[1;31mNameError\u001b[0m: name 'make_confusion_matrix' is not defined"
     ]
    }
   ],
   "source": [
    "make_confusion_matrix(model_knn2_gscv, train_X, train_y, threshold=0.50, show_metrics=True)"
   ]
  },
  {
   "cell_type": "code",
   "execution_count": 42,
   "metadata": {},
   "outputs": [
    {
     "output_type": "error",
     "ename": "NameError",
     "evalue": "name 'make_confusion_matrix' is not defined",
     "traceback": [
      "\u001b[1;31m---------------------------------------------------------------------------\u001b[0m",
      "\u001b[1;31mNameError\u001b[0m                                 Traceback (most recent call last)",
      "\u001b[1;32m<ipython-input-42-a5d4884ca144>\u001b[0m in \u001b[0;36m<module>\u001b[1;34m\u001b[0m\n\u001b[1;32m----> 1\u001b[1;33m \u001b[0mmake_confusion_matrix\u001b[0m\u001b[1;33m(\u001b[0m\u001b[0mmodel_knn2_gscv\u001b[0m\u001b[1;33m,\u001b[0m \u001b[0mtest_X\u001b[0m\u001b[1;33m,\u001b[0m \u001b[0mtest_y\u001b[0m\u001b[1;33m,\u001b[0m \u001b[0mthreshold\u001b[0m\u001b[1;33m=\u001b[0m\u001b[1;36m0.50\u001b[0m\u001b[1;33m,\u001b[0m \u001b[0mshow_metrics\u001b[0m\u001b[1;33m=\u001b[0m\u001b[1;32mTrue\u001b[0m\u001b[1;33m)\u001b[0m\u001b[1;33m\u001b[0m\u001b[1;33m\u001b[0m\u001b[0m\n\u001b[0m",
      "\u001b[1;31mNameError\u001b[0m: name 'make_confusion_matrix' is not defined"
     ]
    }
   ],
   "source": [
    "make_confusion_matrix(model_knn2_gscv, test_X, test_y, threshold=0.50, show_metrics=True)"
   ]
  },
  {
   "cell_type": "markdown",
   "metadata": {},
   "source": [
    "Better performance"
   ]
  }
 ],
 "metadata": {
  "language_info": {
   "codemirror_mode": {
    "name": "ipython",
    "version": 3
   },
   "file_extension": ".py",
   "mimetype": "text/x-python",
   "name": "python",
   "nbconvert_exporter": "python",
   "pygments_lexer": "ipython3",
   "version": "3.8.2-final"
  },
  "orig_nbformat": 2,
  "kernelspec": {
   "name": "python3",
   "display_name": "Python 3"
  }
 },
 "nbformat": 4,
 "nbformat_minor": 2
}